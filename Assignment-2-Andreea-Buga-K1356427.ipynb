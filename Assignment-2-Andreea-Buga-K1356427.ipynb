{
 "cells": [
  {
   "cell_type": "markdown",
   "metadata": {},
   "source": [
    "# Global definitions\n",
    "\n",
    "Load Pylab, define CPTs..."
   ]
  },
  {
   "cell_type": "code",
   "execution_count": 1,
   "metadata": {
    "collapsed": false
   },
   "outputs": [
    {
     "name": "stdout",
     "output_type": "stream",
     "text": [
      "Populating the interactive namespace from numpy and matplotlib\n"
     ]
    }
   ],
   "source": [
    "%pylab inline"
   ]
  },
  {
   "cell_type": "markdown",
   "metadata": {},
   "source": [
    "Define the CPTs"
   ]
  },
  {
   "cell_type": "code",
   "execution_count": 2,
   "metadata": {
    "collapsed": false
   },
   "outputs": [
    {
     "name": "stdout",
     "output_type": "stream",
     "text": [
      "0.1\n"
     ]
    }
   ],
   "source": [
    "L = array([0.9, 0.1])\n",
    "\n",
    "B = array([0.99, 0.01])\n",
    "\n",
    "P_L = array([[0.8, 0.1], \n",
    "             [0.2, 0.9]])\n",
    "\n",
    "T_P = array([[0.8, 0.1], \n",
    "             [0.2, 0.9]])\n",
    "\n",
    "O_PB = array ([[[0.01, 0.7],\n",
    "                [0.8, 0.999]],\n",
    "               [[0.99, 0.3],\n",
    "               [0.2, 0.001]]])\n",
    "print L[1]"
   ]
  },
  {
   "cell_type": "code",
   "execution_count": 40,
   "metadata": {
    "collapsed": false
   },
   "outputs": [
    {
     "name": "stdout",
     "output_type": "stream",
     "text": [
      "[ 0.35891418  0.44611201]\n"
     ]
    }
   ],
   "source": [
    "# Define the CPTs and other useful functions here (e.g. samling from a distribution) here...\n",
    "\n",
    "def sampleL_TO(n):\n",
    "    samples = []\n",
    "    for i in range(0, n):\n",
    "        samples.append([random.random(), random.randint(0, 2), random.randint(0, 2)])\n",
    "    return np.asmatrix(samples)\n",
    "        \n",
    "def sample(n):\n",
    "    return random.sample(n)\n",
    "\n",
    "print sample(2)"
   ]
  },
  {
   "cell_type": "markdown",
   "metadata": {},
   "source": [
    "# 1) Approximate Inference Algorithms\n",
    "\n",
    "Approximate $P(E\\mid M, S)$ using various techniques."
   ]
  },
  {
   "cell_type": "markdown",
   "metadata": {},
   "source": [
    "## A) Rejection Sampling"
   ]
  },
  {
   "cell_type": "code",
   "execution_count": 48,
   "metadata": {
    "collapsed": false
   },
   "outputs": [],
   "source": [
    "#global L_TO_rs\n",
    "def approx_rs(t, o, n):\n",
    "    \n",
    "    \"\"\" \n",
    "    Approximates P(L | T, O) using rejection sampling\n",
    "    :param t: given value for T\n",
    "    :param o: given value for O\n",
    "    :param n: number of samples to use\n",
    "    :returns: Numpy array containing the approximated distribution\n",
    "    \"\"\"\n",
    "    \n",
    "    \"\"\"\n",
    "    First generate the random samples for the events\n",
    "    An array of triples was used for taking into consideration only the variables that are of interested for the given problem\n",
    "    \"\"\"\n",
    "    L_TO = sampleL_TO(n)\n",
    "    \"\"\"\n",
    "    Discover how many events fulfill the conditions t and o (the evidence)\n",
    "    If there are events that fulfill the evidence, check how many of them verify L = l \n",
    "    If no event fulfills the evidence repeat sampling procedure\n",
    "    \"\"\"\n",
    "  \n",
    "    consistentEv = L_TO[(L_TO[:,1] == t) & (L_TO[:,2] == o)][0,:]\n",
    "    if consistentEv.size != 0:\n",
    "        pos_samples = array(consistentEv[consistentEv > L[0]]).size\n",
    "        RS_Approx_L_TO = array([1 - double(pos_samples)/consistentEv.size, double(pos_samples)/consistentEv.size])\n",
    "    else:\n",
    "        approx_rs(t, o, n)    \n",
    "    \n",
    "    return RS_Approx_L_TO\n",
    "\n",
    "\n",
    "L_TO_rs = approx_rs(1, 0, 10000)\n",
    "print L_TO_rs"
   ]
  },
  {
   "cell_type": "markdown",
   "metadata": {},
   "source": [
    "## B) Likelihood Weighting"
   ]
  },
  {
   "cell_type": "code",
   "execution_count": 50,
   "metadata": {
    "collapsed": false
   },
   "outputs": [
    {
     "name": "stdout",
     "output_type": "stream",
     "text": [
      "[0.27080133532518003, 0.72919866467481997]\n"
     ]
    }
   ],
   "source": [
    "global L_TO_lw\n",
    "global valid_weight\n",
    "global total_weight\n",
    "def approx_lw(t, o, n):\n",
    "    \"\"\"\n",
    "    Empty implementation of Aiv)\n",
    "    Approximates P(L | T, O) using likelihood weighting\n",
    "    :param t: given value for T\n",
    "    :param o: given value for O\n",
    "    :param n: number of samples to use\n",
    "    :returns: Numpy array containing the approximated distribution\n",
    "    \"\"\"\n",
    "    valid_weight = 0\n",
    "    total_weight = 0\n",
    "    \"\"\"\n",
    "    Chosen topological ordering: L, P, B O, T\n",
    "    \"\"\"\n",
    "    \n",
    "    \n",
    "    \"\"\"\n",
    "    Sample L, P, B\n",
    "    \"\"\"\n",
    "    s_L = sample(n)\n",
    "    s_P = sample(n) \n",
    "    s_B = sample(n)\n",
    "    \"\"\"\n",
    "    O and T are given as parameters\n",
    "    \"\"\"\n",
    "    for i in range (0, n):\n",
    "        weight = 1\n",
    "        if (s_L[i]>L[0]):\n",
    "            if (s_P[i]>P_L[0, 1]):\n",
    "                if (t == 1):\n",
    "                    weight *= T_P[1, 1]\n",
    "                else:\n",
    "                    weight *= T_P[0, 1]\n",
    "                if (s_B[i]>B[0]):\n",
    "                    if (o == 1):\n",
    "                        weight *= O_PB[1, 1, 1]\n",
    "                    else: \n",
    "                        weight *= O_PB[0, 1, 1]\n",
    "                else:\n",
    "                    if (o == 1):\n",
    "                        weight *= O_PB[0, 1, 0]\n",
    "                    else: \n",
    "                        weight *= O_PB[1, 1, 0]\n",
    "            else:\n",
    "                if (t == 1):\n",
    "                    weight *= T_P[1, 0]\n",
    "                else:\n",
    "                    weight *= T_P[0, 0]\n",
    "                if (s_B[i]>B[0]):\n",
    "                    if (o == 1):\n",
    "                        weight *= O_PB[1, 0, 1]\n",
    "                    else: \n",
    "                        weight *= O_PB[0, 0, 1]\n",
    "                else:\n",
    "                    if (o == 1):\n",
    "                        weight *= O_PB[1, 0, 0]\n",
    "                    else: \n",
    "                        weight *= O_PB[0, 0, 0]   \n",
    "            valid_weight += weight\n",
    "        else:\n",
    "            if (s_P[i]>P_L[0, 0]):\n",
    "                if (t == 1):\n",
    "                    weight *= T_P[0, 1]\n",
    "                else:\n",
    "                    weight *= T_P[0, 0]\n",
    "                if (s_B[i]>B[0]):\n",
    "                    if (o == 1):\n",
    "                        weight *= O_PB[1, 1, 1]\n",
    "                    else: \n",
    "                        weight *= O_PB[0, 1, 1]\n",
    "                else:\n",
    "                    if (o == 1):\n",
    "                        weight *= O_PB[0, 1, 0]\n",
    "                    else: \n",
    "                        weight *= O_PB[1, 1, 0]\n",
    "            else:\n",
    "                if (t == 1):\n",
    "                    weight *= T_P[1, 0]\n",
    "                else:\n",
    "                    weight *= T_P[0, 0]\n",
    "                if (s_B[i]>B[0]):\n",
    "                    if (o == 1):\n",
    "                        weight *= O_PB[1, 0, 1]\n",
    "                    else: \n",
    "                        weight *= O_PB[0, 0, 1]\n",
    "                else:\n",
    "                    if (o == 1):\n",
    "                        weight *= O_PB[1, 0, 0]\n",
    "                    else: \n",
    "                        weight *= O_PB[0, 0, 0] \n",
    "        total_weight += weight\n",
    "    LW_Approx_L_TO = [1-double(valid_weight)/total_weight, double(valid_weight)/total_weight]\n",
    "    return LW_Approx_L_TO\n",
    "\n",
    "\n",
    "L_TO_lw = approx_lw(1, 0, 10000)\n",
    "print L_TO_lw"
   ]
  },
  {
   "cell_type": "markdown",
   "metadata": {},
   "source": [
    "## C) Gibbs Sampling"
   ]
  },
  {
   "cell_type": "code",
   "execution_count": 6,
   "metadata": {
    "collapsed": false
   },
   "outputs": [],
   "source": [
    "def approx_gibbs(t, o, n):\n",
    "    \n",
    "    \"\"\" \n",
    "    Approximates P(L | T, O) using Gibbs sampling\n",
    "    :param t: given value for T\n",
    "    :param o: given value for O\n",
    "    :param n: number of samples to use\n",
    "    :returns: Numpy array containing the approximated distribution\n",
    "    \"\"\"\n",
    "    \n",
    "    # TODO: implement this function\n",
    "    return array([0, 0])"
   ]
  },
  {
   "cell_type": "markdown",
   "metadata": {},
   "source": [
    "# 2) Comparison\n",
    "\n",
    "## A) Exact Inference"
   ]
  },
  {
   "cell_type": "code",
   "execution_count": 7,
   "metadata": {
    "collapsed": false
   },
   "outputs": [
    {
     "data": {
      "text/plain": [
       "array([ 0.67066293,  0.32933707])"
      ]
     },
     "execution_count": 7,
     "metadata": {},
     "output_type": "execute_result"
    }
   ],
   "source": [
    "def exact(t, o):\n",
    "    \"\"\" \n",
    "    Computes P(L | T, O) using exact inference\n",
    "    :param t: given value for T\n",
    "    :param o: given value for O\n",
    "    :returns: Numpy array containing the distribution\n",
    "    \"\"\"\n",
    "    # TODO: implement this function\n",
    "    # t = 1; o = 1\n",
    "    col_b = 0\n",
    "    \n",
    "    \n",
    "    L_OT = L[1] * (P_L[0, 1] * T_P[t, 0] * B[0] * O_PB[o, 0, 0] + # p = 0, b = 0 \n",
    "                 + P_L[0, 1] * T_P[t, 0] * B[1] * O_PB[o, 0, 1] + # p = 0, b = 1\n",
    "                 + P_L[1, 1] * T_P[t, 1] * B[0] * O_PB[o, 1, 0] + # p = 1, b = 0 \n",
    "                 + P_L[1, 1] * T_P[t, 1] * B[1] * O_PB[o, 1, 1]) # p = 1, b = 1\n",
    "    NL_OT = L[0] *(P_L[0, 0] * T_P[t, 0] * B[0] * O_PB[o, 0, 0] + # p = 0, b = 0 \n",
    "                 + P_L[0, 0] * T_P[t, 0] * B[1] * O_PB[o, 0, 1] + # p = 0, b = 1\n",
    "                 + P_L[1, 0] * T_P[t, 1] * B[0] * O_PB[o, 1, 0] + # p = 1, b = 0 \n",
    "                 + P_L[1, 0] * T_P[t, 1] * B[1] * O_PB[o, 1, 1]) # p = 1, b = 1\n",
    "    \n",
    "    Lsum = L_OT + NL_OT\n",
    "    \n",
    "    return array([double(NL_OT)/Lsum, double(L_OT)/Lsum])\n",
    "exact(1, 0)"
   ]
  },
  {
   "cell_type": "markdown",
   "metadata": {},
   "source": [
    "## B) Compute and plot estimation errors"
   ]
  },
  {
   "cell_type": "code",
   "execution_count": 8,
   "metadata": {
    "collapsed": false
   },
   "outputs": [],
   "source": [
    "def kld(p, q):\n",
    "    \"\"\"\n",
    "    Computes the Kullback-Leibler divergence between p and q.\n",
    "    :param p: true distribution\n",
    "    :param q: estimated distribution\n",
    "    :return: Kullback-Leibler Divergence between p and q\n",
    "    \"\"\"\n",
    "    return (p * np.log(p / (q + 0.00000000001))).sum()  # add a small constant for numeric stability\n",
    "\n",
    "\n",
    "def compute_approximation_error(approx_function, t, o, n_runs, sample_counts, **kwargs):\n",
    "    \"\"\"\n",
    "    Computes the approximation error for a given approximation method.\n",
    "    :param approx_function: function used to approximate the distribution\n",
    "    :param t: given value for T\n",
    "    :param o: given value for O\n",
    "    :param n_runs: number of approximations\n",
    "    :param sample_counts: list or array of numbers of sampels to use\n",
    "    :returns: mean approximation error for each of the sample counts\n",
    "    \"\"\"\n",
    "    mean_errors = []\n",
    "    correct = exact(t, o)\n",
    "    \n",
    "    for num_samples in sample_counts:\n",
    "        estimates = array([approx_function(t, o, n=num_samples, **kwargs) for i in range(n_runs)])\n",
    "        mean_errors.append(abs(estimates - correct).mean())       \n",
    "        #mean_errors.append(kld(correct, estimates))  # use this instead of the line above for KLD!\n",
    "    \n",
    "    return mean_errors"
   ]
  },
  {
   "cell_type": "markdown",
   "metadata": {},
   "source": [
    "### Compute the estimation errors\n"
   ]
  },
  {
   "cell_type": "code",
   "execution_count": 49,
   "metadata": {
    "collapsed": false
   },
   "outputs": [
    {
     "ename": "UnboundLocalError",
     "evalue": "local variable 'RS_Approx_L_TO' referenced before assignment",
     "output_type": "error",
     "traceback": [
      "\u001b[1;31m---------------------------------------------------------------------------\u001b[0m",
      "\u001b[1;31mUnboundLocalError\u001b[0m                         Traceback (most recent call last)",
      "\u001b[1;32m<ipython-input-49-5362fb247726>\u001b[0m in \u001b[0;36m<module>\u001b[1;34m()\u001b[0m\n\u001b[0;32m      6\u001b[0m \u001b[1;33m\u001b[0m\u001b[0m\n\u001b[0;32m      7\u001b[0m \u001b[1;32mfor\u001b[0m \u001b[0mt\u001b[0m\u001b[1;33m,\u001b[0m \u001b[0mo\u001b[0m \u001b[1;32min\u001b[0m \u001b[0mzip\u001b[0m\u001b[1;33m(\u001b[0m\u001b[1;33m[\u001b[0m\u001b[1;36m0\u001b[0m\u001b[1;33m,\u001b[0m \u001b[1;36m0\u001b[0m\u001b[1;33m,\u001b[0m \u001b[1;36m1\u001b[0m\u001b[1;33m,\u001b[0m \u001b[1;36m1\u001b[0m\u001b[1;33m]\u001b[0m\u001b[1;33m,\u001b[0m \u001b[1;33m[\u001b[0m\u001b[1;36m0\u001b[0m\u001b[1;33m,\u001b[0m \u001b[1;36m1\u001b[0m\u001b[1;33m,\u001b[0m \u001b[1;36m0\u001b[0m\u001b[1;33m,\u001b[0m \u001b[1;36m1\u001b[0m\u001b[1;33m]\u001b[0m\u001b[1;33m)\u001b[0m\u001b[1;33m:\u001b[0m\u001b[1;33m\u001b[0m\u001b[0m\n\u001b[1;32m----> 8\u001b[1;33m     \u001b[0mrs_errs\u001b[0m\u001b[1;33m[\u001b[0m\u001b[1;33m(\u001b[0m\u001b[0mt\u001b[0m\u001b[1;33m,\u001b[0m \u001b[0mo\u001b[0m\u001b[1;33m)\u001b[0m\u001b[1;33m]\u001b[0m \u001b[1;33m=\u001b[0m \u001b[0mcompute_approximation_error\u001b[0m\u001b[1;33m(\u001b[0m\u001b[0mapprox_rs\u001b[0m\u001b[1;33m,\u001b[0m \u001b[0mt\u001b[0m\u001b[1;33m,\u001b[0m \u001b[0mo\u001b[0m\u001b[1;33m,\u001b[0m \u001b[0mn_runs\u001b[0m\u001b[1;33m,\u001b[0m \u001b[0msample_counts\u001b[0m\u001b[1;33m)\u001b[0m\u001b[1;33m\u001b[0m\u001b[0m\n\u001b[0m\u001b[0;32m      9\u001b[0m     \u001b[0mlw_errs\u001b[0m\u001b[1;33m[\u001b[0m\u001b[1;33m(\u001b[0m\u001b[0mt\u001b[0m\u001b[1;33m,\u001b[0m \u001b[0mo\u001b[0m\u001b[1;33m)\u001b[0m\u001b[1;33m]\u001b[0m \u001b[1;33m=\u001b[0m \u001b[0mcompute_approximation_error\u001b[0m\u001b[1;33m(\u001b[0m\u001b[0mapprox_lw\u001b[0m\u001b[1;33m,\u001b[0m \u001b[0mt\u001b[0m\u001b[1;33m,\u001b[0m \u001b[0mo\u001b[0m\u001b[1;33m,\u001b[0m \u001b[0mn_runs\u001b[0m\u001b[1;33m,\u001b[0m \u001b[0msample_counts\u001b[0m\u001b[1;33m)\u001b[0m\u001b[1;33m\u001b[0m\u001b[0m\n\u001b[0;32m     10\u001b[0m     \u001b[0mgb_errs\u001b[0m\u001b[1;33m[\u001b[0m\u001b[1;33m(\u001b[0m\u001b[0mt\u001b[0m\u001b[1;33m,\u001b[0m \u001b[0mo\u001b[0m\u001b[1;33m)\u001b[0m\u001b[1;33m]\u001b[0m \u001b[1;33m=\u001b[0m \u001b[0mcompute_approximation_error\u001b[0m\u001b[1;33m(\u001b[0m\u001b[0mapprox_gibbs\u001b[0m\u001b[1;33m,\u001b[0m \u001b[0mt\u001b[0m\u001b[1;33m,\u001b[0m \u001b[0mo\u001b[0m\u001b[1;33m,\u001b[0m \u001b[0mn_runs\u001b[0m\u001b[1;33m,\u001b[0m \u001b[0msample_counts\u001b[0m\u001b[1;33m)\u001b[0m\u001b[1;33m\u001b[0m\u001b[0m\n",
      "\u001b[1;32m<ipython-input-8-1247ca4e6b3b>\u001b[0m in \u001b[0;36mcompute_approximation_error\u001b[1;34m(approx_function, t, o, n_runs, sample_counts, **kwargs)\u001b[0m\n\u001b[0;32m     23\u001b[0m \u001b[1;33m\u001b[0m\u001b[0m\n\u001b[0;32m     24\u001b[0m     \u001b[1;32mfor\u001b[0m \u001b[0mnum_samples\u001b[0m \u001b[1;32min\u001b[0m \u001b[0msample_counts\u001b[0m\u001b[1;33m:\u001b[0m\u001b[1;33m\u001b[0m\u001b[0m\n\u001b[1;32m---> 25\u001b[1;33m         \u001b[0mestimates\u001b[0m \u001b[1;33m=\u001b[0m \u001b[0marray\u001b[0m\u001b[1;33m(\u001b[0m\u001b[1;33m[\u001b[0m\u001b[0mapprox_function\u001b[0m\u001b[1;33m(\u001b[0m\u001b[0mt\u001b[0m\u001b[1;33m,\u001b[0m \u001b[0mo\u001b[0m\u001b[1;33m,\u001b[0m \u001b[0mn\u001b[0m\u001b[1;33m=\u001b[0m\u001b[0mnum_samples\u001b[0m\u001b[1;33m,\u001b[0m \u001b[1;33m**\u001b[0m\u001b[0mkwargs\u001b[0m\u001b[1;33m)\u001b[0m \u001b[1;32mfor\u001b[0m \u001b[0mi\u001b[0m \u001b[1;32min\u001b[0m \u001b[0mrange\u001b[0m\u001b[1;33m(\u001b[0m\u001b[0mn_runs\u001b[0m\u001b[1;33m)\u001b[0m\u001b[1;33m]\u001b[0m\u001b[1;33m)\u001b[0m\u001b[1;33m\u001b[0m\u001b[0m\n\u001b[0m\u001b[0;32m     26\u001b[0m         \u001b[0mmean_errors\u001b[0m\u001b[1;33m.\u001b[0m\u001b[0mappend\u001b[0m\u001b[1;33m(\u001b[0m\u001b[0mabs\u001b[0m\u001b[1;33m(\u001b[0m\u001b[0mestimates\u001b[0m \u001b[1;33m-\u001b[0m \u001b[0mcorrect\u001b[0m\u001b[1;33m)\u001b[0m\u001b[1;33m.\u001b[0m\u001b[0mmean\u001b[0m\u001b[1;33m(\u001b[0m\u001b[1;33m)\u001b[0m\u001b[1;33m)\u001b[0m\u001b[1;33m\u001b[0m\u001b[0m\n\u001b[0;32m     27\u001b[0m         \u001b[1;31m#mean_errors.append(kld(correct, estimates))  # use this instead of the line above for KLD!\u001b[0m\u001b[1;33m\u001b[0m\u001b[1;33m\u001b[0m\u001b[0m\n",
      "\u001b[1;32m<ipython-input-48-9b2af110026b>\u001b[0m in \u001b[0;36mapprox_rs\u001b[1;34m(t, o, n)\u001b[0m\n\u001b[0;32m     28\u001b[0m         \u001b[0mapprox_rs\u001b[0m\u001b[1;33m(\u001b[0m\u001b[0mt\u001b[0m\u001b[1;33m,\u001b[0m \u001b[0mo\u001b[0m\u001b[1;33m,\u001b[0m \u001b[0mn\u001b[0m\u001b[1;33m)\u001b[0m\u001b[1;33m\u001b[0m\u001b[0m\n\u001b[0;32m     29\u001b[0m \u001b[1;33m\u001b[0m\u001b[0m\n\u001b[1;32m---> 30\u001b[1;33m     \u001b[1;32mreturn\u001b[0m \u001b[0mRS_Approx_L_TO\u001b[0m\u001b[1;33m\u001b[0m\u001b[0m\n\u001b[0m\u001b[0;32m     31\u001b[0m \u001b[1;33m\u001b[0m\u001b[0m\n\u001b[0;32m     32\u001b[0m \u001b[1;33m\u001b[0m\u001b[0m\n",
      "\u001b[1;31mUnboundLocalError\u001b[0m: local variable 'RS_Approx_L_TO' referenced before assignment"
     ]
    }
   ],
   "source": [
    "rs_errs = {}\n",
    "lw_errs = {}\n",
    "gb_errs = {}\n",
    "n_runs = 100\n",
    "sample_counts = array([10, 20, 40, 80, 160, 320, 640, 1280])\n",
    "\n",
    "for t, o in zip([0, 0, 1, 1], [0, 1, 0, 1]):\n",
    "    rs_errs[(t, o)] = compute_approximation_error(approx_rs, t, o, n_runs, sample_counts)\n",
    "    lw_errs[(t, o)] = compute_approximation_error(approx_lw, t, o, n_runs, sample_counts)\n",
    "    gb_errs[(t, o)] = compute_approximation_error(approx_gibbs, t, o, n_runs, sample_counts)"
   ]
  },
  {
   "cell_type": "markdown",
   "metadata": {},
   "source": [
    "### Plot the estimation errors"
   ]
  },
  {
   "cell_type": "code",
   "execution_count": 213,
   "metadata": {
    "collapsed": false
   },
   "outputs": [
    {
     "ename": "NameError",
     "evalue": "name 'sample_counts' is not defined",
     "output_type": "error",
     "traceback": [
      "\u001b[1;31m---------------------------------------------------------------------------\u001b[0m",
      "\u001b[1;31mNameError\u001b[0m                                 Traceback (most recent call last)",
      "\u001b[1;32m<ipython-input-213-a9af4261a259>\u001b[0m in \u001b[0;36m<module>\u001b[1;34m()\u001b[0m\n\u001b[0;32m      3\u001b[0m     \u001b[0mtitle\u001b[0m\u001b[1;33m(\u001b[0m\u001b[1;34m'Mean Absolute Error, t = %d, o = %d'\u001b[0m \u001b[1;33m%\u001b[0m \u001b[1;33m(\u001b[0m\u001b[0mt\u001b[0m\u001b[1;33m,\u001b[0m \u001b[0mo\u001b[0m\u001b[1;33m)\u001b[0m\u001b[1;33m)\u001b[0m\u001b[1;33m\u001b[0m\u001b[0m\n\u001b[0;32m      4\u001b[0m \u001b[1;33m\u001b[0m\u001b[0m\n\u001b[1;32m----> 5\u001b[1;33m     \u001b[0mplot\u001b[0m\u001b[1;33m(\u001b[0m\u001b[0msample_counts\u001b[0m\u001b[1;33m,\u001b[0m \u001b[0mrs_errs\u001b[0m\u001b[1;33m[\u001b[0m\u001b[1;33m(\u001b[0m\u001b[0mt\u001b[0m\u001b[1;33m,\u001b[0m \u001b[0mo\u001b[0m\u001b[1;33m)\u001b[0m\u001b[1;33m]\u001b[0m\u001b[1;33m,\u001b[0m \u001b[1;34m'r'\u001b[0m\u001b[1;33m,\u001b[0m \u001b[0mlabel\u001b[0m\u001b[1;33m=\u001b[0m\u001b[1;34m'Rejection Sampling'\u001b[0m\u001b[1;33m,\u001b[0m \u001b[0mlw\u001b[0m\u001b[1;33m=\u001b[0m\u001b[1;36m2\u001b[0m\u001b[1;33m)\u001b[0m\u001b[1;33m\u001b[0m\u001b[0m\n\u001b[0m\u001b[0;32m      6\u001b[0m     \u001b[0mplot\u001b[0m\u001b[1;33m(\u001b[0m\u001b[0msample_counts\u001b[0m\u001b[1;33m,\u001b[0m \u001b[0mlw_errs\u001b[0m\u001b[1;33m[\u001b[0m\u001b[1;33m(\u001b[0m\u001b[0mt\u001b[0m\u001b[1;33m,\u001b[0m \u001b[0mo\u001b[0m\u001b[1;33m)\u001b[0m\u001b[1;33m]\u001b[0m\u001b[1;33m,\u001b[0m \u001b[1;34m'g'\u001b[0m\u001b[1;33m,\u001b[0m \u001b[0mlabel\u001b[0m\u001b[1;33m=\u001b[0m\u001b[1;34m'Likelihood Weighting'\u001b[0m\u001b[1;33m,\u001b[0m \u001b[0mlw\u001b[0m\u001b[1;33m=\u001b[0m\u001b[1;36m2\u001b[0m\u001b[1;33m)\u001b[0m\u001b[1;33m\u001b[0m\u001b[0m\n\u001b[0;32m      7\u001b[0m     \u001b[0mplot\u001b[0m\u001b[1;33m(\u001b[0m\u001b[0msample_counts\u001b[0m\u001b[1;33m,\u001b[0m \u001b[0mgb_errs\u001b[0m\u001b[1;33m[\u001b[0m\u001b[1;33m(\u001b[0m\u001b[0mt\u001b[0m\u001b[1;33m,\u001b[0m \u001b[0mo\u001b[0m\u001b[1;33m)\u001b[0m\u001b[1;33m]\u001b[0m\u001b[1;33m,\u001b[0m \u001b[1;34m'b'\u001b[0m\u001b[1;33m,\u001b[0m \u001b[0mlabel\u001b[0m\u001b[1;33m=\u001b[0m\u001b[1;34m'Gibbs Sampling'\u001b[0m\u001b[1;33m,\u001b[0m \u001b[0mlw\u001b[0m\u001b[1;33m=\u001b[0m\u001b[1;36m2\u001b[0m\u001b[1;33m)\u001b[0m\u001b[1;33m\u001b[0m\u001b[0m\n",
      "\u001b[1;31mNameError\u001b[0m: name 'sample_counts' is not defined"
     ]
    },
    {
     "data": {
      "image/png": "[encoded data removed]",
      "text/plain": [
       "<matplotlib.figure.Figure at 0xaa87cc0>"
      ]
     },
     "metadata": {},
     "output_type": "display_data"
    }
   ],
   "source": [
    "for t, o in zip([0, 0, 1, 1], [0, 1, 0, 1]):\n",
    "    figure(figsize=(10, 8))\n",
    "    title('Mean Absolute Error, t = %d, o = %d' % (t, o))\n",
    "\n",
    "    plot(sample_counts, rs_errs[(t, o)], 'r', label='Rejection Sampling', lw=2)\n",
    "    plot(sample_counts, lw_errs[(t, o)], 'g', label='Likelihood Weighting', lw=2)\n",
    "    plot(sample_counts, gb_errs[(t, o)], 'b', label='Gibbs Sampling', lw=2)   \n",
    "    \n",
    "    legend()\n",
    "    xscale('log')\n",
    "    xlim(sample_counts.min(), sample_counts.max())\n",
    "    xlabel('Number of samples')"
   ]
  }
 ],
 "metadata": {
  "kernelspec": {
   "display_name": "Python 2",
   "language": "python",
   "name": "python2"
  },
  "language_info": {
   "codemirror_mode": {
    "name": "ipython",
    "version": 2
   },
   "file_extension": ".py",
   "mimetype": "text/x-python",
   "name": "python",
   "nbconvert_exporter": "python",
   "pygments_lexer": "ipython2",
   "version": "2.7.10"
  }
 },
 "nbformat": 4,
 "nbformat_minor": 0
}
