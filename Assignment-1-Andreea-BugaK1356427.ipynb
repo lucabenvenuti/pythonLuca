{
 "cells": [
  {
   "cell_type": "markdown",
   "metadata": {},
   "source": [
    "# Assignment 1\n",
    "\n",
    "## Exercise 1\n",
    "\n",
    "\n",
    "We first declare the array corresponding to the joint probability table. We use the following notations for the random variables:\n",
    "    - C = Crying\n",
    "    - H = Hungry\n",
    "    - T = Cold (intuitively from temperature, so that we do not have to repeat T)\n",
    "\n",
    "CHT = array([[[0.075, 0.045],\n",
    "\n",
    "        [0.023, 0.007]],\n",
    "        \n",
    "        [[0.08, 0.17],\n",
    "        [0.17, 0.43]]])"
   ]
  },
  {
   "cell_type": "code",
   "execution_count": 3,
   "metadata": {
    "collapsed": false
   },
   "outputs": [
    {
     "name": "stdout",
     "output_type": "stream",
     "text": [
      "Populating the interactive namespace from numpy and matplotlib\n"
     ]
    }
   ],
   "source": [
    "%pylab inline"
   ]
  },
  {
   "cell_type": "code",
   "execution_count": 182,
   "metadata": {
    "collapsed": true
   },
   "outputs": [],
   "source": [
    "CHT = array([[[0.075, 0.045],\n",
    "        [0.023, 0.007]],\n",
    "             \n",
    "        [[0.08, 0.17],\n",
    "        [0.17, 0.43]]])"
   ]
  },
  {
   "cell_type": "code",
   "execution_count": 38,
   "metadata": {
    "collapsed": false
   },
   "outputs": [
    {
     "name": "stdout",
     "output_type": "stream",
     "text": [
      "A. At some random night-time, what is the probability that Olivia is crying?\n"
     ]
    }
   ],
   "source": [
    "print \"A. At some random night-time, what is the probability that Olivia is crying?\""
   ]
  },
  {
   "cell_type": "code",
   "execution_count": 183,
   "metadata": {
    "collapsed": false
   },
   "outputs": [
    {
     "name": "stdout",
     "output_type": "stream",
     "text": [
      "Probability of Olivia crying at a random night-time is 0.15 or 15.0%\n"
     ]
    }
   ],
   "source": [
    "#We marginalise out H&T, summing up on the Crying axis (first on T variable, then on H variable)\n",
    "CH = CHT.sum(2)\n",
    "C = CH.sum(1)\n",
    "print 'Probability of Olivia crying at a random night-time is ' + `round (C[0], 2)` + \" or \"+ `C[0]*100` + \"%\""
   ]
  },
  {
   "cell_type": "code",
   "execution_count": 43,
   "metadata": {
    "collapsed": false
   },
   "outputs": [
    {
     "name": "stdout",
     "output_type": "stream",
     "text": [
      "B. What is the probability that Olivia is hungry when she is crying?\n"
     ]
    }
   ],
   "source": [
    "print \"B. What is the probability that Olivia is hungry when she is crying?\""
   ]
  },
  {
   "cell_type": "markdown",
   "metadata": {},
   "source": [
    "For this conditional probability we first need to compute the probability of hungry and crying: P(hungry^crying) and then divide it to the probability of crying.\n",
    "P(hungry|crying) = P(hungry^crying)/P(crying)\n",
    "We already have the probability of crying. In order to compute the P(hungry^crying) we marginalise out only T and that is, in fact, the value of CH at row 0 and column 0, previously computed."
   ]
  },
  {
   "cell_type": "code",
   "execution_count": 184,
   "metadata": {
    "collapsed": false
   },
   "outputs": [
    {
     "name": "stdout",
     "output_type": "stream",
     "text": [
      "P(hungry^crying) = 0.12\n"
     ]
    }
   ],
   "source": [
    "print 'P(hungry^crying) = ' + `CH[0][0]`"
   ]
  },
  {
   "cell_type": "code",
   "execution_count": 185,
   "metadata": {
    "collapsed": false
   },
   "outputs": [
    {
     "name": "stdout",
     "output_type": "stream",
     "text": [
      "P(hungry|crying) = 0.8\n",
      "Probability of Olivia being hungry when she is crying is 0.8 or 80.0%\n"
     ]
    }
   ],
   "source": [
    "CH = CHT.sum(2)\n",
    "C = CH.sum(1)\n",
    "PHC = round(CH[0][0]/C[0],2)\n",
    "print 'P(hungry|crying) = ' + `PHC`\n",
    "print 'Probability of Olivia being hungry when she is crying is ' + `PHC` + \" or \"+ `PHC*100` + \"%\""
   ]
  },
  {
   "cell_type": "markdown",
   "metadata": {},
   "source": [
    "C. What is the probability that Olivia is crying when she is cold?\n",
    "\n",
    "For this conditional probability we first need to compute the probability of P(crying^cold) and then divide to the probability of being cold P(cold).\n",
    "P(crying|cold) = P(crying^cold)/P(cold)\n",
    "In order to compute the P(crying^cold) we marginalise out only H. We are interested in the true values for cold and crying which correspond to row 0 and column 0."
   ]
  },
  {
   "cell_type": "code",
   "execution_count": 186,
   "metadata": {
    "collapsed": false
   },
   "outputs": [
    {
     "name": "stdout",
     "output_type": "stream",
     "text": [
      "0.098\n"
     ]
    }
   ],
   "source": [
    "Pct = CHT.sum(1)[0][0]\n",
    "print Pct"
   ]
  },
  {
   "cell_type": "markdown",
   "metadata": {},
   "source": [
    "In order to find the values of the random variable T(Cold) we marginalize out C(Crying) and H(Hungry). "
   ]
  },
  {
   "cell_type": "code",
   "execution_count": 188,
   "metadata": {
    "collapsed": false
   },
   "outputs": [
    {
     "name": "stdout",
     "output_type": "stream",
     "text": [
      "P(crying|cold) = 0.28\n",
      "Probability of Olivia crying when she is cold is 0.28 or 28.0%\n"
     ]
    }
   ],
   "source": [
    "HT = CHT.sum(0)\n",
    "T = HT.sum(0)\n",
    "c_cond_t = round(Pct/T[0],2)\n",
    "print 'P(crying|cold) = ' + `c_cond_t`\n",
    "print 'Probability of Olivia crying when she is cold is ' + `c_cond_t` + \" or \"+ `round(c_cond_t*100,2)` + \"%\""
   ]
  },
  {
   "cell_type": "markdown",
   "metadata": {},
   "source": [
    "D. Compute P(Crying, hungry) and P(Crying | hungry) (mind the lowercase “hungry”). Explain the conceptual diff\u001berence between the two!\n",
    "For both cases Crying can have both values {false, true}\n",
    "P(Crying, hungry) is the probability of both events happening; the joint event. But in the case of the conditional probability P(Crying|hungry) the value of the probability is influenced by the fact that hungry is already a known event. The sample space is not the whole universe, but the universe where Olivia is Crying. This influences the value of the probability. For example, given that Olivia is hungry it is more likely for her to cry.\n",
    "\n",
    "We computed previously the value of P(Crying, hungry) when we marginalised out T. We need to extract only the first column because the value of hungry is now known and it is set to true.\n"
   ]
  },
  {
   "cell_type": "code",
   "execution_count": 90,
   "metadata": {
    "collapsed": false
   },
   "outputs": [
    {
     "name": "stdout",
     "output_type": "stream",
     "text": [
      "Probability of P(Crying, hungry) is array([ 0.12,  0.25])\n"
     ]
    }
   ],
   "source": [
    "print 'Probability of P(Crying, hungry) is ' + `CH[:, 0]`"
   ]
  },
  {
   "cell_type": "markdown",
   "metadata": {},
   "source": [
    "In order to compute the distributed probability we first need to compute P(hungry). In order to do this, we marginalise out C and T. We take the value of the first element (hungry should be true)."
   ]
  },
  {
   "cell_type": "code",
   "execution_count": 189,
   "metadata": {
    "collapsed": false
   },
   "outputs": [
    {
     "name": "stdout",
     "output_type": "stream",
     "text": [
      "[ 0.32432432  0.67567568]\n",
      "Probability of P(Crying|hungry) is array([ 0.32,  0.68])\n"
     ]
    }
   ],
   "source": [
    "HT = CHT.sum(0)\n",
    "H = HT.sum(1)\n",
    "C_cond_h = CH[:, 0] / H[0]\n",
    "print C_cond_h\n",
    "print 'Probability of P(Crying|hungry) is ' + `array([round(C_cond_h[0],2), round(C_cond_h[1],2)])`"
   ]
  },
  {
   "cell_type": "markdown",
   "metadata": {},
   "source": [
    "## Exercise 2\n",
    "\n",
    "A. What is the probability that the first person he meets is a glass wearer with a pink car?\n",
    "\n",
    "The car colour preference and glass wearer are independent. Therefore, the probability that the first person he meets is a glass wearer with a pink car is the product of the probability that the first person that he meets is a glass wearer and the probability that the first person that he meets drives a pink car.\n",
    "\n",
    "First we need to define the array for the distribution of car colours and the array for the distribution of glass wearers per sex. For the first array we use the notation C - for Colour random variable; while for the second array we use the notation SG - for the gender of the person and Glass Wearer random variables.\n",
    "\n",
    "D = array ([0.23, 0.21, 0.17, 0.13, 0.01, 0.25])\n",
    "\n",
    "SG = array([[0.65, 0.35],\n",
    "\n",
    "            [0.55, 0.45]])"
   ]
  },
  {
   "cell_type": "code",
   "execution_count": 4,
   "metadata": {
    "collapsed": true
   },
   "outputs": [],
   "source": [
    "D = array ([0.23, 0.21, 0.17, 0.13, 0.01, 0.25])\n",
    "SG = array([[0.65, 0.35],\n",
    "        [0.55, 0.45]])"
   ]
  },
  {
   "cell_type": "markdown",
   "metadata": {},
   "source": [
    "We first compute the probability of the person that he meets wears glasses.\n",
    "\n",
    "P(g) = P(f^g)*P(f) + P(m^g)*P(m)"
   ]
  },
  {
   "cell_type": "code",
   "execution_count": 5,
   "metadata": {
    "collapsed": false
   },
   "outputs": [
    {
     "name": "stdout",
     "output_type": "stream",
     "text": [
      "Probability to meet a person that wears glasses is 0.6 or 60.0%.\n"
     ]
    }
   ],
   "source": [
    "fg = SG[0][0]\n",
    "mg = SG[1][0]\n",
    "f = m = 0.5\n",
    "g = round(fg*f + mg*m ,2)\n",
    "print 'Probability to meet a person that wears glasses is ' + `g` + ' or ' + `g*100` + '%.'"
   ]
  },
  {
   "cell_type": "code",
   "execution_count": 6,
   "metadata": {
    "collapsed": false
   },
   "outputs": [
    {
     "name": "stdout",
     "output_type": "stream",
     "text": [
      "The probability that the first person he meets is a glass wearer with a pink car is 0.006 or 0.6%.\n"
     ]
    }
   ],
   "source": [
    "gpink = round(g * D[4],3)\n",
    "print 'The probability that the first person he meets is a glass wearer with a pink car is ' + `gpink` + ' or ' + `gpink*100` + '%.'"
   ]
  },
  {
   "cell_type": "markdown",
   "metadata": {},
   "source": [
    "B. What is the probability that the first man he meets is a glass wearer with a pink car?\n",
    "\n",
    "We have now a conditional probability. Given the fact that the first person is a men, what is the probability that he wears glasses and drives a pink car.\n",
    "\n",
    "P(pink^g|m) = P(pink^g^m)|P(m) (1)\n",
    "\n",
    "Using chain rule:\n",
    "\n",
    "P(pink^g^m) = P(pink|g^m)*P(g|m)*P(m)\n",
    "\n",
    "But colour of the car is independent of glass wearer and the gender. Therefore P(pink|g^m) = P(pink)\n",
    "\n",
    "P(pink|g^m) = P(pink). By substituting this into the first equation (1), we get\n",
    "\n",
    "P(pink^g|m) = P(pink^g^m)|P(m) = (P(pink)*P(g|m)*P(m)) / P(m)\n",
    "\n",
    "P(pink^g|m) = P(pink)*P(g|m)\n",
    "\n",
    "P(g|m) = P(g^m)/P(m)\n",
    "\n",
    "P(pink^g|m) = P(pink)*P(g^m)/P(m)"
   ]
  },
  {
   "cell_type": "code",
   "execution_count": 9,
   "metadata": {
    "collapsed": false
   },
   "outputs": [
    {
     "name": "stdout",
     "output_type": "stream",
     "text": [
      "0.55\n",
      "0.5\n",
      "The probability that the first man he meets is a glass wearer with a pink car is 0.011 or 1.1%.\n"
     ]
    }
   ],
   "source": [
    "PG_cond_M = round((D[4] * mg) / m, 3)\n",
    "print mg\n",
    "print m\n",
    "print 'The probability that the first man he meets is a glass wearer with a pink car is ' + `PG_cond_M` + ' or ' + `round(PG_cond_M*100,3)` + '%.'"
   ]
  },
  {
   "cell_type": "markdown",
   "metadata": {},
   "source": [
    "C. Assuming the murderer wears glasses. What is the distribution of sex given that he/she wears glasses? Hint: Use Bayes’ rule.\n",
    "\n",
    "P(S|g) = P(S*g) / P(g) = (P(g|S)*P(S))/ P(g)\n",
    "\n",
    "We have already computed P(g) in the A. question. As P(S) = [0.5, 0.5] we can multiply the array of Gender, Glass Wearer dependency with the value of m for instance."
   ]
  },
  {
   "cell_type": "code",
   "execution_count": 194,
   "metadata": {
    "collapsed": false
   },
   "outputs": [
    {
     "name": "stdout",
     "output_type": "stream",
     "text": [
      "The distribution of sex given that he/she wears glasses array([ 0.54,  0.46])\n"
     ]
    }
   ],
   "source": [
    "PS_cond_G = SG[:, 0] * m/ g\n",
    "print 'The distribution of sex given that he/she wears glasses ' + `array([round(PS_cond_G[0],2), round(PS_cond_G[1],2)])`"
   ]
  },
  {
   "cell_type": "markdown",
   "metadata": {},
   "source": [
    "## Exercise 3\n",
    "A. Write down the probability table that represent the distribution of the fruits given the\n",
    "colour of the boxes.\n",
    "We write the probability table as a two dimensional array corresponding to the two random variables: Colour (C) and Fruit (F).\n",
    "\n",
    "CF = array([[3/8, 4/8, 1/8],\n",
    "\n",
    "            [0, 2/5, 3/5],\n",
    "            \n",
    "            [2/3, 1/3, 0]])"
   ]
  },
  {
   "cell_type": "code",
   "execution_count": 150,
   "metadata": {
    "collapsed": false
   },
   "outputs": [
    {
     "name": "stdout",
     "output_type": "stream",
     "text": [
      "[[ 0.375       0.5         0.125     ]\n",
      " [ 0.          0.4         0.6       ]\n",
      " [ 0.66666667  0.33333333  0.        ]]\n"
     ]
    }
   ],
   "source": [
    "CF = array([[3.0/8, 4.0/8, 1.0/8],\n",
    "        [0, 2.0/5, 3.0/5],\n",
    "\n",
    "        [2.0/3, 1.0/3, 0]])\n",
    "print CF"
   ]
  },
  {
   "cell_type": "markdown",
   "metadata": {},
   "source": [
    "B. If a box is chosen at random with probabilities P(r) = 0.3, P(b) = 0.2, P(g) = 0.5, and one piece of fruit is chosen randomly from this box (with equal probability of selecting any of the items in the box), then what is the probability of selecting an orange?\n",
    "\n",
    "P(o) = sum over colour (P(o, C)*P(C))"
   ]
  },
  {
   "cell_type": "code",
   "execution_count": 196,
   "metadata": {
    "collapsed": false
   },
   "outputs": [
    {
     "name": "stdout",
     "output_type": "stream",
     "text": [
      "The probability of selecting an orange from a box is 0.4 or 39.67%.\n"
     ]
    }
   ],
   "source": [
    "C = [0.3, 0.2, 0.5]\n",
    "o = (CF [:, 1] * C).sum(0)\n",
    "print 'The probability of selecting an orange from a box is ' + `round(o,2)` + ' or ' + `round(o*100,2)` + '%.'"
   ]
  },
  {
   "cell_type": "markdown",
   "metadata": {},
   "source": [
    "C. If we observe that the selected fruit is in fact an apple, what is the probability that it came from the green box?\n",
    "\n",
    "We have to calculate the conditional probability P(apple|green).\n",
    "\n",
    "P(g|a) = P(g^a)/P(a)\n",
    "\n",
    "P(a) = sum over colour (P(a, C)*P(C))\n",
    "\n",
    "P(g^a) = P(a|g)*P(g)\n",
    "\n",
    "P(g|a) = P(a|g)*P(g)/P(a)"
   ]
  },
  {
   "cell_type": "code",
   "execution_count": 211,
   "metadata": {
    "collapsed": false
   },
   "outputs": [
    {
     "name": "stdout",
     "output_type": "stream",
     "text": [
      "If we observe that the selected fruit is in fact an apple, the probability that it came from the green box is 0.75 or 74.77%.\n"
     ]
    }
   ],
   "source": [
    "a = (CF [:, 0] * C).sum(0)\n",
    "#print 'The probability of selecting an apple from a box is ' + `round(a,2)` + ' or ' + `round(a*100,2)` + '%.'\n",
    "g_cond_a = CF [2][0]\n",
    "print 'If we observe that the selected fruit is in fact an apple, the probability that it came from the green box is ' + `round(g_cond_a*C[2]/a,2)` + ' or ' + `round(g_cond_a*C[2]/a*100,2)` + '%.'"
   ]
  },
  {
   "cell_type": "markdown",
   "metadata": {},
   "source": [
    "## Exercise 4\n",
    "\n",
    "#### A. BA ┴ BP is false. \n",
    "\n",
    "BA is causing BS which in its turn causes BP. There is a causal dependence between the two. Practically, the bigger the battery age, the worse the battery state which influences the battery power.\n",
    "\n",
    "This relation does not verify the conditional independence assumption."
   ]
  },
  {
   "cell_type": "markdown",
   "metadata": {},
   "source": [
    "#### B. CH ┴ BS is true.\n",
    "\n",
    "CH and BS are independent. Their parents (in case of BS) are not connected in any way. No information about any other variable is known, therefore CH and BS are marginally independent."
   ]
  },
  {
   "cell_type": "markdown",
   "metadata": {},
   "source": [
    "#### C. CS ┴ LW is false. \n",
    "Knowing CS, the degree of belief that EC is true is higher, and therefore the degree of belief that BP is true is higher. But BP causes LW so in this way the degree of belief about EC changes. Based on this reasoning CS is not independent on LW. \n",
    "\n",
    "This relation does not verify the conditional independence assumption."
   ]
  },
  {
   "cell_type": "markdown",
   "metadata": {},
   "source": [
    "#### D. BA ┴ BP | BS is true.\n",
    "If battery state is known, the information of battery age does not say anything new about battery state and therefore does not influence BP. \n",
    "\n",
    "This independence relation verifies the conditional independence assumption."
   ]
  },
  {
   "cell_type": "markdown",
   "metadata": {},
   "source": [
    "#### E. CH ┴ BA | BP is false.\n",
    "If BP is known, and you assume that BA is true, that reduces the chances of CH. This principle applies also the other way around.\n",
    "\n",
    "This relation does not verify the conditional independence assumption."
   ]
  },
  {
   "cell_type": "markdown",
   "metadata": {},
   "source": [
    "#### F. CS ┴ LW | CH is false\n",
    "If we have given CH and then we find that CS also holds, the degree of belief for LW increase. CS contributes additionally to the degree of belief of BP. \n",
    "\n",
    "This relation does not verify the conditional independence assumption."
   ]
  },
  {
   "cell_type": "markdown",
   "metadata": {},
   "source": [
    "##### G. BS ┴ LW | BP is true.\n",
    "A similar case to point D. Given BP, BS does not influence additionally the degree of belief of LW.\n",
    "\n",
    "This independence relation verifies the conditional independence assumption."
   ]
  },
  {
   "cell_type": "markdown",
   "metadata": {},
   "source": [
    "#### H. CH ┴ BA|BP, BS is false.\n",
    "CH and BA have no parents, but information about their children is given so they are no more marginally independent. Battery power is an indicator of charger problems. But knowing battery state and battery age are, for instance, bad, one reduces his degree of belief that the charger causes problem to the battery power. (Intercausal reasoning)"
   ]
  }
 ],
 "metadata": {
  "kernelspec": {
   "display_name": "Python 2",
   "language": "python",
   "name": "python2"
  },
  "language_info": {
   "codemirror_mode": {
    "name": "ipython",
    "version": 2
   },
   "file_extension": ".py",
   "mimetype": "text/x-python",
   "name": "python",
   "nbconvert_exporter": "python",
   "pygments_lexer": "ipython2",
   "version": "2.7.10"
  }
 },
 "nbformat": 4,
 "nbformat_minor": 0
}
