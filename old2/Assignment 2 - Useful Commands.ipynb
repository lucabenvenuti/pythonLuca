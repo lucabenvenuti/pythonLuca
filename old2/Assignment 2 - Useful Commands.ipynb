{
 "cells": [
  {
   "cell_type": "code",
   "execution_count": 1,
   "metadata": {
    "collapsed": false
   },
   "outputs": [
    {
     "name": "stdout",
     "output_type": "stream",
     "text": [
      "Populating the interactive namespace from numpy and matplotlib\n"
     ]
    }
   ],
   "source": [
    "%pylab inline"
   ]
  },
  {
   "cell_type": "markdown",
   "metadata": {},
   "source": [
    "This Jupyter notebook shows you some commands you might find useful for Assignment 2. You still have to use them properly :)\n",
    "\n",
    "If you want help for a specific command, just type the command in a code cell with a ? at the end and press ENTER. This will open the documentation of the command."
   ]
  },
  {
   "cell_type": "code",
   "execution_count": 2,
   "metadata": {
    "collapsed": false
   },
   "outputs": [],
   "source": [
    "searchsorted?\n"
   ]
  },
  {
   "cell_type": "markdown",
   "metadata": {},
   "source": [
    "The following commands might be useful for sampling..."
   ]
  },
  {
   "cell_type": "code",
   "execution_count": 4,
   "metadata": {
    "collapsed": false
   },
   "outputs": [
    {
     "name": "stdout",
     "output_type": "stream",
     "text": [
      "[  3.   8.  18.]\n",
      "1\n",
      "[0 1 2 3]\n",
      "[ 0.2051235   0.12534328  0.3378913   0.94646307  0.95350665  0.09435915\n",
      "  0.06262741  0.63154342  0.52426105  0.20888211]\n"
     ]
    }
   ],
   "source": [
    "x = array([3., 5., 10.])\n",
    "print x.cumsum()\n",
    "print x.searchsorted(4)\n",
    "print x.searchsorted([2, 4, 9, 13])\n",
    "print random.sample(10)"
   ]
  },
  {
   "cell_type": "markdown",
   "metadata": {},
   "source": [
    "You can use binary masks for indexing in an array:"
   ]
  },
  {
   "cell_type": "code",
   "execution_count": 5,
   "metadata": {
    "collapsed": false,
    "scrolled": true
   },
   "outputs": [
    {
     "name": "stdout",
     "output_type": "stream",
     "text": [
      "[ True  True False  True  True  True False False  True False]\n",
      "[ 0.91584197  0.86234061  0.53197373  0.70585477  0.89772089  0.94118858]\n",
      "[ 0.53197373  0.70585477]\n"
     ]
    }
   ],
   "source": [
    "x = random.sample(10)\n",
    "print x > 0.5\n",
    "print x[x > 0.5]\n",
    "# & .. and     | .. or     ~ .. not     ^ .. xor\n",
    "print x[(x > 0.5) & (x < 0.8)]"
   ]
  },
  {
   "cell_type": "markdown",
   "metadata": {},
   "source": [
    "You can use the `.transpose(...)` method to shuffle dimensions:"
   ]
  },
  {
   "cell_type": "code",
   "execution_count": 6,
   "metadata": {
    "collapsed": false
   },
   "outputs": [
    {
     "name": "stdout",
     "output_type": "stream",
     "text": [
      "1.0\n"
     ]
    }
   ],
   "source": [
    "# create a random conditional probability distribution P(A | B, C, D)\n",
    "A_BCD = random.sample((2, 3, 4, 5))\n",
    "A_BCD /= A_BCD.sum(axis=0)[newaxis, :, :, :]\n",
    "\n",
    "# create a random joint probability distribution P(C, D, B)\n",
    "CDB = random.sample((4, 5, 3))\n",
    "CDB /= CDB.sum()\n",
    "\n",
    "# now we compute the full joint P(A, B, C, D)\n",
    "#ABCD = A_BCD * CDB[newaxis, :, :, :]  # ERROR: wrong alignment. \n",
    "ABCD = A_BCD * CDB.transpose(2, 0, 1)[newaxis, :, :, :]\n",
    "print ABCD.sum()"
   ]
  },
  {
   "cell_type": "markdown",
   "metadata": {},
   "source": [
    "The `.transpose(...)` command 'reorders' the dimensions according to the given parameters. In our case, we wanted dimension 2 (B) to be first, then dimension 0 (C), then dimension 1 (D), in order to get `BCD`. *We advice you to name your variables in a way that reflects which variable corresponds to which dimension to avoid confusion!*\n",
    "\n",
    "By the way, `.T` is a shortcut for the following transpose command:"
   ]
  },
  {
   "cell_type": "code",
   "execution_count": 6,
   "metadata": {
    "collapsed": false
   },
   "outputs": [
    {
     "name": "stdout",
     "output_type": "stream",
     "text": [
      "True\n"
     ]
    }
   ],
   "source": [
    "print (ABCD.T == ABCD.transpose(3, 2, 1, 0)).all()"
   ]
  },
  {
   "cell_type": "markdown",
   "metadata": {},
   "source": [
    "This might be more intuitive with two dimensions:"
   ]
  },
  {
   "cell_type": "code",
   "execution_count": 7,
   "metadata": {
    "collapsed": false
   },
   "outputs": [
    {
     "name": "stdout",
     "output_type": "stream",
     "text": [
      "[[ 0.95364823  0.92125739  0.41517168]\n",
      " [ 0.56783634  0.22244431  0.0378399 ]\n",
      " [ 0.8860816   0.25215939  0.24096788]]\n",
      "True\n"
     ]
    }
   ],
   "source": [
    "x = random.sample((3, 3))\n",
    "print x\n",
    "print (x.T == x.transpose(1, 0)).all()"
   ]
  },
  {
   "cell_type": "code",
   "execution_count": 11,
   "metadata": {
    "collapsed": true
   },
   "outputs": [],
   "source": [
    "def printme(a):\n",
    "   \"This prints a passed string into this function\"\n",
    "   #print str\n",
    "   return a + 1"
   ]
  },
  {
   "cell_type": "code",
   "execution_count": 12,
   "metadata": {
    "collapsed": false
   },
   "outputs": [
    {
     "data": {
      "text/plain": [
       "2"
      ]
     },
     "execution_count": 12,
     "metadata": {},
     "output_type": "execute_result"
    }
   ],
   "source": [
    "printme(1)"
   ]
  },
  {
   "cell_type": "code",
   "execution_count": null,
   "metadata": {
    "collapsed": true
   },
   "outputs": [],
   "source": []
  }
 ],
 "metadata": {
  "kernelspec": {
   "display_name": "Python 2",
   "language": "python",
   "name": "python2"
  },
  "language_info": {
   "codemirror_mode": {
    "name": "ipython",
    "version": 2
   },
   "file_extension": ".py",
   "mimetype": "text/x-python",
   "name": "python",
   "nbconvert_exporter": "python",
   "pygments_lexer": "ipython2",
   "version": "2.7.10"
  }
 },
 "nbformat": 4,
 "nbformat_minor": 0
}
