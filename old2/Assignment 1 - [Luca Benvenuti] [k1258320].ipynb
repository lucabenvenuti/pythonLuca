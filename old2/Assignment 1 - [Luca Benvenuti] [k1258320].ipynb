{
 "cells": [
  {
   "cell_type": "code",
   "execution_count": 3,
   "metadata": {
    "collapsed": false
   },
   "outputs": [
    {
     "name": "stdout",
     "output_type": "stream",
     "text": [
      "Populating the interactive namespace from numpy and matplotlib\n"
     ]
    }
   ],
   "source": [
    "%pylab inline"
   ]
  },
  {
   "cell_type": "markdown",
   "metadata": {
    "collapsed": true
   },
   "source": [
    "First exercise\n",
    "========"
   ]
  },
  {
   "cell_type": "code",
   "execution_count": 16,
   "metadata": {
    "collapsed": false
   },
   "outputs": [
    {
     "name": "stdout",
     "output_type": "stream",
     "text": [
      "L = Cold, H = Hungry, Y = Crying\n"
     ]
    }
   ],
   "source": [
    "# L = Cold, H = Hungry, Y = Crying\n",
    "print 'L = Cold, H = Hungry, Y = Crying'"
   ]
  },
  {
   "cell_type": "code",
   "execution_count": 4,
   "metadata": {
    "collapsed": false
   },
   "outputs": [],
   "source": [
    "YHL = array([[[0.075, 0.045],\n",
    "              [0.023, 0.007]],\n",
    "             \n",
    "             [[0.08, 0.17],\n",
    "              [0.17, 0.43]]])"
   ]
  },
  {
   "cell_type": "code",
   "execution_count": 17,
   "metadata": {
    "collapsed": false
   },
   "outputs": [
    {
     "name": "stdout",
     "output_type": "stream",
     "text": [
      "1A) At some random night-time, there is 15.0% probability that Olivia is crying.\n"
     ]
    }
   ],
   "source": [
    "# Summing over the crying axis\n",
    "YH = YHL.sum(2)  # marginalising L & H\n",
    "Y = YH.sum(1)\n",
    "print '1A) At some random night-time, there is ' + `round(Y[0],2)*100` + '% probability that Olivia is crying.'"
   ]
  },
  {
   "cell_type": "code",
   "execution_count": 29,
   "metadata": {
    "collapsed": false
   },
   "outputs": [
    {
     "name": "stdout",
     "output_type": "stream",
     "text": [
      "What is the probability that Olivia is hungry when she is crying?\n",
      "P(h|y) = P(h^y) / P(y)\n",
      "1B) There is 80.0% probability that Olivia is hungry when she is crying.\n"
     ]
    }
   ],
   "source": [
    "H_cond_Y = YH / Y [0]\n",
    "print 'What is the probability that Olivia is hungry when she is crying?'\n",
    "print 'P(h|y) = P(h^y) / P(y)'\n",
    "print '1B) There is ' + `round(H_cond_Y[0,0],2)*100` + '% probability that Olivia is hungry when she is crying.'"
   ]
  },
  {
   "cell_type": "code",
   "execution_count": 31,
   "metadata": {
    "collapsed": false
   },
   "outputs": [
    {
     "name": "stdout",
     "output_type": "stream",
     "text": [
      "What is the probability that Olivia is crying when she is cold? \n",
      "P(y|l) = P(y^l) / P(l)\n",
      "1C) there is 28.0% probability that Olivia is crying when she is cold\n"
     ]
    }
   ],
   "source": [
    "YL = YHL.sum(1)\n",
    "L = YL.sum(0)\n",
    "Y_cond_L = YL / L [0]\n",
    "print 'What is the probability that Olivia is crying when she is cold? '\n",
    "print 'P(y|l) = P(y^l) / P(l)'\n",
    "print '1C) there is ' + `round(Y_cond_L[0,0],2)*1000/10` + '% probability that Olivia is crying when she is cold'"
   ]
  },
  {
   "cell_type": "code",
   "execution_count": 89,
   "metadata": {
    "collapsed": false
   },
   "outputs": [
    {
     "name": "stdout",
     "output_type": "stream",
     "text": [
      "1D) Compute P(Crying, hungry) and P(Crying | hungry) (mind the lowercase “hungry”).\n",
      "P(Y,h)\n",
      "[ 0.12  0.25]\n",
      "P(Crying, hungry) represents the probability of conjunctions (joint event) of the hungry events with any Crying event.\n",
      "\n",
      "\n",
      "P(Y|h)\n",
      "[ 0.32432432  0.67567568]\n",
      "P(Crying|hungry) represents the probability of conditional distribution of the hungry events with any Crying event.\n"
     ]
    }
   ],
   "source": [
    "H = YH.sum(0)\n",
    "print '1D) Compute P(Crying, hungry) and P(Crying | hungry) (mind the lowercase “hungry”).'\n",
    "print 'P(Y,h)'\n",
    "YhL = YHL[:,0,:]\n",
    "Yh = YhL.sum(1)\n",
    "print Yh\n",
    "print 'P(Crying, hungry) represents the probability of conjunctions (joint event) of the hungry events with any Crying event.'\n",
    "print '\\n'\n",
    "print 'P(Y|h)'\n",
    "print Yh/H[0]\n",
    "print 'P(Crying|hungry) represents the probability of conditional distribution of the hungry events with any Crying event.'"
   ]
  },
  {
   "cell_type": "markdown",
   "metadata": {
    "collapsed": true
   },
   "source": [
    "Second exercise\n",
    "========"
   ]
  },
  {
   "cell_type": "code",
   "execution_count": 88,
   "metadata": {
    "collapsed": false
   },
   "outputs": [],
   "source": [
    "# G = Gender, W = glass Wearer\n",
    "GW = array ([[0.65, 0.35],\n",
    "             [0.55, 0.45]])\n",
    "p = 0.01 # probability of having a pink car\n",
    "m = 0.50 # probability of being a man"
   ]
  },
  {
   "cell_type": "code",
   "execution_count": 71,
   "metadata": {
    "collapsed": false
   },
   "outputs": [
    {
     "name": "stdout",
     "output_type": "stream",
     "text": [
      "2A) There is 0.6% probability that the first person he meets is a glass wearer with a pink car, G(w ^ p).\n"
     ]
    }
   ],
   "source": [
    "W = GW.sum(0)\n",
    "W_cond = W / W.sum(0)\n",
    "#print W_cond[0]\n",
    "wp = W_cond[0] * p\n",
    "print '2A) There is ' + `round(wp,3)*100` + '% probability that the first person he meets is a glass wearer with a pink car, G(w ^ p).'"
   ]
  },
  {
   "cell_type": "code",
   "execution_count": 86,
   "metadata": {
    "collapsed": false
   },
   "outputs": [
    {
     "name": "stdout",
     "output_type": "stream",
     "text": [
      "2B) There is 1.1% probability that the first man he meets is a glass wearer with a pink car, P(m ^ w ^ p | m).\n"
     ]
    }
   ],
   "source": [
    "mwp = GW[1,0] * P\n",
    "mwp_cond_m = GW_P / m\n",
    "print '2B) There is ' + `round(mwp_cond_m,4)*1000/10` + '% probability that the first man he meets is a glass wearer with a pink car, P(m ^ w ^ p | m).'"
   ]
  },
  {
   "cell_type": "code",
   "execution_count": 87,
   "metadata": {
    "collapsed": false
   },
   "outputs": [
    {
     "name": "stdout",
     "output_type": "stream",
     "text": [
      "[ 0.54166667  0.45833333]\n",
      "2C) there is 54% that the killer is a man, 46% that is a woman, P(G| w).\n"
     ]
    }
   ],
   "source": [
    "G_cond_W = GW[:,0] / W[0]\n",
    "print G_cond_W\n",
    "print '2C) there is 54% that the killer is a man, 46% that is a woman, P(G| w).'"
   ]
  },
  {
   "cell_type": "markdown",
   "metadata": {
    "collapsed": true
   },
   "source": [
    "Third exercise\n",
    "========"
   ]
  },
  {
   "cell_type": "code",
   "execution_count": 97,
   "metadata": {
    "collapsed": false
   },
   "outputs": [
    {
     "name": "stdout",
     "output_type": "stream",
     "text": [
      "probability of fruits and colours\n",
      "[[ 0.1875  0.      0.125 ]\n",
      " [ 0.25    0.125   0.0625]\n",
      " [ 0.0625  0.1875  0.    ]]\n",
      "\n",
      "\n",
      "probability of the boxes\n",
      "[ 0.3  0.2  0.5]\n",
      "\n",
      "\n",
      "3A) Probability given the colour of the boxes:\n",
      "[[ 0.375       0.          0.66666667]\n",
      " [ 0.5         0.4         0.33333333]\n",
      " [ 0.125       0.6         0.        ]]\n"
     ]
    }
   ],
   "source": [
    "FC = array ([[3.0, 0.0, 2.0],\n",
    "            [4.0,  2.0, 1.0],\n",
    "            [1.0,  3.0, 0.0]])\n",
    "FC_tot = FC / FC.sum(1).sum(0)\n",
    "B = array([0.3, 0.2, 0.5])\n",
    "FC_col = FC\n",
    "for i in range(3):\n",
    "    FC_col[:,i] = FC[:,i] / FC[:,i].sum(0)\n",
    "\n",
    "print 'probability of fruits and colours'\n",
    "print FC_tot\n",
    "print '\\n'\n",
    "print 'probability of the boxes'\n",
    "print B\n",
    "print '\\n'\n",
    "print '3A) Probability given the colour of the boxes:'\n",
    "print FC_col "
   ]
  },
  {
   "cell_type": "code",
   "execution_count": 106,
   "metadata": {
    "collapsed": false
   },
   "outputs": [
    {
     "name": "stdout",
     "output_type": "stream",
     "text": [
      "3B) Probability of selecting an orange, if a box is chosen at random with probabilities\n",
      " P(r) = 0.3, P(b) = 0.2, P(g) = 0.5, and one piece of fruit is chosen randomly from this box \n",
      "(with equal probability of selecting any of the items in the box) is 40.0% = P(o).\n"
     ]
    }
   ],
   "source": [
    "o = (FC_col[1,:] * B).sum(0)\n",
    "print '3B) Probability of selecting an orange, if a box is chosen at random with probabilities' \n",
    "print ' P(r) = 0.3, P(b) = 0.2, P(g) = 0.5, and one piece of fruit is chosen randomly from this box ' \n",
    "print '(with equal probability of selecting any of the items in the box) is ' + `round(o,2)*100` + '% = P(o).'"
   ]
  },
  {
   "cell_type": "code",
   "execution_count": 107,
   "metadata": {
    "collapsed": false
   },
   "outputs": [
    {
     "name": "stdout",
     "output_type": "stream",
     "text": [
      "Probability of selecting an apple, if a box is chosen at random with probabilities\n",
      " P(r) = 0.3, P(b) = 0.2, P(g) = 0.5, and one piece of fruit is chosen randomly from this box \n",
      "(with equal probability of selecting any of the items in the box) is 45.0%.\n"
     ]
    }
   ],
   "source": [
    "a = (FC_col[0,:] * B).sum(0) # P(a)\n",
    "print 'Probability of selecting an apple, if a box is chosen at random with probabilities' \n",
    "print ' P(r) = 0.3, P(b) = 0.2, P(g) = 0.5, and one piece of fruit is chosen randomly from this box ' \n",
    "print '(with equal probability of selecting any of the items in the box) is ' + `round(a,2)*100` + '%.'"
   ]
  },
  {
   "cell_type": "code",
   "execution_count": 109,
   "metadata": {
    "collapsed": false
   },
   "outputs": [
    {
     "name": "stdout",
     "output_type": "stream",
     "text": [
      "P(g|a) = P(a|g) * P(g) / P(a) = (P(a,g) * P(g) / P(g) ) / P(a) = P(a,g) / P(a)\n",
      "3C) If we observe that the selected fruit is in fact an apple, what is the probability that it\n",
      "came from the green box? If we assume, that we chose the box with the same probabilities\n",
      "as in question 1.3B, the answer is 75.0%.\n"
     ]
    }
   ],
   "source": [
    "print 'P(g|a) = P(a|g) * P(g) / P(a) = (P(a,g) * P(g) / P(g) ) / P(a) = P(a,g) / P(a)'\n",
    "g_cond_a = FC_col[0,2] * B[2] / a\n",
    "print '3C) If we observe that the selected fruit is in fact an apple, what is the probability that it'\n",
    "print 'came from the green box? If we assume, that we chose the box with the same probabilities'\n",
    "print 'as in question 1.3B, the answer is ' + `round(g_cond_a,2)*100` + '%.'"
   ]
  },
  {
   "cell_type": "markdown",
   "metadata": {
    "collapsed": true
   },
   "source": [
    "Fourth exercise\n",
    "=========="
   ]
  },
  {
   "cell_type": "markdown",
   "metadata": {
    "collapsed": true
   },
   "source": [
    "### A) BA┴BP is false.\n",
    "BP is casually correlated to BA.\n",
    "\n",
    "### B) CH┴BS is true.\n",
    "Since BP is not given, and CH and BS do not share parents, they are marginally indipendent.\n",
    "\n",
    "### C) CS┴LW is false.\n",
    "They share BP as parent (of second level for CS), thus they are not marginally indipendent.\n",
    "\n",
    "### D) BA┴BP|BS is true.\n",
    "Given BS, any information provided by BA is redundant to know the probability distribution of BP. Thus, BA is conditionally indipendent from BP, given BS.\n",
    "\n",
    "### E) CH ┴ BA | BP is false.\n",
    "Knowing BA and BP is a sufficient condition to determine the probability distribution of CH. Thus, CH is not conditionally indipendent from BA, given BP.\n",
    "\n",
    "### F) CS ┴ LW | CH is false.\n",
    "CS and LW share BP as parent, condition that is not influenced by their conditional probability given CH.\n",
    "\n",
    "### G) BS ┴ LW | BP is true.\n",
    "Given BP, any information provided by BS is redundant to know the probability distribution of LW. \n",
    "\n",
    "### H) CH ┴ BA | BP, BS is false.\n",
    "Same as E). Knowing even BS, it makes only easier to calculate the probability distribution of CH, given its child BP."
   ]
  },
  {
   "cell_type": "code",
   "execution_count": null,
   "metadata": {
    "collapsed": true
   },
   "outputs": [],
   "source": []
  }
 ],
 "metadata": {
  "kernelspec": {
   "display_name": "Python 2",
   "language": "python",
   "name": "python2"
  },
  "language_info": {
   "codemirror_mode": {
    "name": "ipython",
    "version": 2
   },
   "file_extension": ".py",
   "mimetype": "text/x-python",
   "name": "python",
   "nbconvert_exporter": "python",
   "pygments_lexer": "ipython2",
   "version": "2.7.10"
  }
 },
 "nbformat": 4,
 "nbformat_minor": 0
}
