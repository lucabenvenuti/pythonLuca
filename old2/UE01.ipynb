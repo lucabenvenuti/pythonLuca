{
 "cells": [
  {
   "cell_type": "code",
   "execution_count": 1,
   "metadata": {
    "collapsed": false
   },
   "outputs": [
    {
     "name": "stdout",
     "output_type": "stream",
     "text": [
      "1\n"
     ]
    }
   ],
   "source": [
    "a = 1\n",
    "print a"
   ]
  },
  {
   "cell_type": "code",
   "execution_count": 2,
   "metadata": {
    "collapsed": false
   },
   "outputs": [
    {
     "name": "stdout",
     "output_type": "stream",
     "text": [
      "1.76 <type 'float'>\n",
      "foo <type 'str'>\n"
     ]
    }
   ],
   "source": [
    "a = 1.76\n",
    "print a, type(a)\n",
    "a = 'foo'\n",
    "print a, type(a)"
   ]
  },
  {
   "cell_type": "code",
   "execution_count": 3,
   "metadata": {
    "collapsed": false
   },
   "outputs": [
    {
     "name": "stdout",
     "output_type": "stream",
     "text": [
      "[1, 2, 3, 'bar', None]\n"
     ]
    }
   ],
   "source": [
    "my_list = [1, 2, 3, 'bar', None]\n",
    "print my_list"
   ]
  },
  {
   "cell_type": "code",
   "execution_count": 4,
   "metadata": {
    "collapsed": false
   },
   "outputs": [
    {
     "name": "stdout",
     "output_type": "stream",
     "text": [
      "[1, 2, 42, 'bar', None]\n",
      "[1, 2, 42, 'bar', None, 4, [7, 8, 0.3], []]\n"
     ]
    }
   ],
   "source": [
    "my_list[2] = 42\n",
    "print my_list\n",
    "my_list += [4, [7, 8, 0.3], []]\n",
    "print my_list"
   ]
  },
  {
   "cell_type": "code",
   "execution_count": 5,
   "metadata": {
    "collapsed": false
   },
   "outputs": [
    {
     "name": "stdout",
     "output_type": "stream",
     "text": [
      "('hello', 5, 'world')\n"
     ]
    }
   ],
   "source": [
    "my_tuple = ('hello', 5, 'world')\n",
    "print my_tuple"
   ]
  },
  {
   "cell_type": "code",
   "execution_count": 6,
   "metadata": {
    "collapsed": false
   },
   "outputs": [
    {
     "ename": "TypeError",
     "evalue": "'tuple' object does not support item assignment",
     "output_type": "error",
     "traceback": [
      "\u001b[1;31m---------------------------------------------------------------------------\u001b[0m",
      "\u001b[1;31mTypeError\u001b[0m                                 Traceback (most recent call last)",
      "\u001b[1;32m<ipython-input-6-ab4e6da31c8c>\u001b[0m in \u001b[0;36m<module>\u001b[1;34m()\u001b[0m\n\u001b[1;32m----> 1\u001b[1;33m \u001b[0mmy_tuple\u001b[0m\u001b[1;33m[\u001b[0m\u001b[1;36m0\u001b[0m\u001b[1;33m]\u001b[0m \u001b[1;33m=\u001b[0m \u001b[1;34m'goodbye'\u001b[0m \u001b[1;31m# not allowed!\u001b[0m\u001b[1;33m\u001b[0m\u001b[0m\n\u001b[0m",
      "\u001b[1;31mTypeError\u001b[0m: 'tuple' object does not support item assignment"
     ]
    }
   ],
   "source": [
    "my_tuple[0] = 'goodbye' # not allowed!"
   ]
  },
  {
   "cell_type": "code",
   "execution_count": 7,
   "metadata": {
    "collapsed": false
   },
   "outputs": [
    {
     "name": "stdout",
     "output_type": "stream",
     "text": [
      "{'a': 1, 'c': 'foo', 'b': [5, 6]}\n",
      "[5, 6]\n",
      "['a', 'c', 'b']\n",
      "hashmap\n"
     ]
    }
   ],
   "source": [
    "my_dict = {'a': 1, 'b': [5, 6], 'c': 'foo'}\n",
    "print my_dict\n",
    "print my_dict['b']\n",
    "print my_dict.keys()\n",
    "print 'hashmap'"
   ]
  },
  {
   "cell_type": "code",
   "execution_count": 8,
   "metadata": {
    "collapsed": false
   },
   "outputs": [
    {
     "name": "stdout",
     "output_type": "stream",
     "text": [
      "{'a': 1, 'c': 'foo', 'b': [5, 6], 23: 'c'}\n"
     ]
    }
   ],
   "source": [
    "my_dict[23] = 'c'\n",
    "print my_dict"
   ]
  },
  {
   "cell_type": "code",
   "execution_count": 9,
   "metadata": {
    "collapsed": false
   },
   "outputs": [
    {
     "name": "stdout",
     "output_type": "stream",
     "text": [
      "got it!\n"
     ]
    }
   ],
   "source": [
    "if my_dict[23] == '4':\n",
    "    print 'yay'\n",
    "elif 'b' in my_dict.keys():\n",
    "    print 'got it!'\n",
    "else:\n",
    "    print 'wat?'\n",
    "    "
   ]
  },
  {
   "cell_type": "code",
   "execution_count": 10,
   "metadata": {
    "collapsed": false
   },
   "outputs": [
    {
     "name": "stdout",
     "output_type": "stream",
     "text": [
      "100\n",
      "121\n",
      "144\n"
     ]
    }
   ],
   "source": [
    "for i in [10, 11, 12]:\n",
    "    print i ** 2\n",
    "    "
   ]
  },
  {
   "cell_type": "code",
   "execution_count": 11,
   "metadata": {
    "collapsed": false
   },
   "outputs": [
    {
     "name": "stdout",
     "output_type": "stream",
     "text": [
      "0\n",
      "1\n",
      "2\n",
      "3\n",
      "4\n"
     ]
    }
   ],
   "source": [
    "for i in range(5):\n",
    "    print i"
   ]
  },
  {
   "cell_type": "code",
   "execution_count": 12,
   "metadata": {
    "collapsed": false
   },
   "outputs": [
    {
     "name": "stdout",
     "output_type": "stream",
     "text": [
      "There's no such month as 'Rocktober'\n",
      "There's no such month as 'Rocktober'\n",
      "There's no such month as 'Rocktober'\n"
     ]
    }
   ],
   "source": [
    "i = 10\n",
    "while i < 13:\n",
    "    print \"There's no such month as 'Rocktober'\"\n",
    "    i += 1\n",
    "    "
   ]
  },
  {
   "cell_type": "code",
   "execution_count": 13,
   "metadata": {
    "collapsed": false
   },
   "outputs": [
    {
     "name": "stdout",
     "output_type": "stream",
     "text": [
      "abcabc\n"
     ]
    }
   ],
   "source": [
    "def double(x):\n",
    "    return x * 2\n",
    "\n",
    "print double('abc')\n"
   ]
  },
  {
   "cell_type": "code",
   "execution_count": 14,
   "metadata": {
    "collapsed": false
   },
   "outputs": [
    {
     "name": "stdout",
     "output_type": "stream",
     "text": [
      "[1, 2, 3, 4, 3]\n"
     ]
    }
   ],
   "source": [
    "print [1, 2, 3] + [4, 3]  # remember the concatenation operator '+'?\n"
   ]
  },
  {
   "cell_type": "code",
   "execution_count": 15,
   "metadata": {
    "collapsed": false
   },
   "outputs": [
    {
     "name": "stdout",
     "output_type": "stream",
     "text": [
      "[1, 2, 3, 1, 2, 3]\n"
     ]
    }
   ],
   "source": [
    "print double([1, 2, 3])\n"
   ]
  },
  {
   "cell_type": "code",
   "execution_count": 16,
   "metadata": {
    "collapsed": true
   },
   "outputs": [],
   "source": [
    "def my_func(a, b):\n",
    "    x = a * b\n",
    "    if x > 0:\n",
    "        for i in range(x):\n",
    "            y = x * x\n",
    "            print y\n",
    "            \n",
    "        print \"done\"        \n",
    "    else:\n",
    "        print \"error\"\n",
    "        \n",
    "    return x\n"
   ]
  },
  {
   "cell_type": "code",
   "execution_count": 17,
   "metadata": {
    "collapsed": false
   },
   "outputs": [
    {
     "name": "stdout",
     "output_type": "stream",
     "text": [
      "4\n",
      "4\n",
      "done\n"
     ]
    },
    {
     "data": {
      "text/plain": [
       "2"
      ]
     },
     "execution_count": 17,
     "metadata": {},
     "output_type": "execute_result"
    }
   ],
   "source": [
    "my_func(1, 2)"
   ]
  },
  {
   "cell_type": "code",
   "execution_count": 18,
   "metadata": {
    "collapsed": false
   },
   "outputs": [
    {
     "name": "stdout",
     "output_type": "stream",
     "text": [
      "Populating the interactive namespace from numpy and matplotlib\n"
     ]
    },
    {
     "name": "stderr",
     "output_type": "stream",
     "text": [
      "WARNING: pylab import has clobbered these variables: ['double']\n",
      "`%matplotlib` prevents importing * from pylab and numpy\n"
     ]
    }
   ],
   "source": [
    "%pylab inline"
   ]
  },
  {
   "cell_type": "code",
   "execution_count": 19,
   "metadata": {
    "collapsed": false
   },
   "outputs": [
    {
     "name": "stdout",
     "output_type": "stream",
     "text": [
      "1.0\n",
      "()\n"
     ]
    }
   ],
   "source": [
    "a = ones(())  # the empty tuple () means that there are no dimensions at all\n",
    "print a\n",
    "print a.shape  # the shape field holds the shape tuple, in this case it is empty, indicating the lack of dimensions"
   ]
  },
  {
   "cell_type": "code",
   "execution_count": 20,
   "metadata": {
    "collapsed": false
   },
   "outputs": [
    {
     "name": "stdout",
     "output_type": "stream",
     "text": [
      "[ 1.  1.]\n",
      "(2,)\n"
     ]
    }
   ],
   "source": [
    "b = ones((2,))  # we pass a tuple with a single element, meaning we want a single dimension of length 2\n",
    "print b\n",
    "print b.shape"
   ]
  },
  {
   "cell_type": "code",
   "execution_count": 21,
   "metadata": {
    "collapsed": false
   },
   "outputs": [
    {
     "name": "stdout",
     "output_type": "stream",
     "text": [
      "[ 1.  1.]\n",
      "(2,)\n"
     ]
    }
   ],
   "source": [
    "print b.T  #transpose\n",
    "print b.T.shape"
   ]
  },
  {
   "cell_type": "code",
   "execution_count": 22,
   "metadata": {
    "collapsed": false
   },
   "outputs": [
    {
     "name": "stdout",
     "output_type": "stream",
     "text": [
      "[[ 1.  1.]\n",
      " [ 1.  1.]\n",
      " [ 1.  1.]]\n",
      "(3, 2)\n"
     ]
    }
   ],
   "source": [
    "c = ones((3, 2))\n",
    "print c\n",
    "print c.shape"
   ]
  },
  {
   "cell_type": "code",
   "execution_count": 23,
   "metadata": {
    "collapsed": false
   },
   "outputs": [
    {
     "name": "stdout",
     "output_type": "stream",
     "text": [
      "[[[ 1.  1.]\n",
      "  [ 1.  1.]\n",
      "  [ 1.  1.]]\n",
      "\n",
      " [[ 1.  1.]\n",
      "  [ 1.  1.]\n",
      "  [ 1.  1.]]\n",
      "\n",
      " [[ 1.  1.]\n",
      "  [ 1.  1.]\n",
      "  [ 1.  1.]]\n",
      "\n",
      " [[ 1.  1.]\n",
      "  [ 1.  1.]\n",
      "  [ 1.  1.]]]\n",
      "(4, 3, 2)\n"
     ]
    }
   ],
   "source": [
    "d = ones((4, 3, 2))\n",
    "print d\n",
    "print d.shape"
   ]
  },
  {
   "cell_type": "code",
   "execution_count": 24,
   "metadata": {
    "collapsed": true
   },
   "outputs": [],
   "source": [
    "x = array([[1., 2.], \n",
    "           [3., 4.]])"
   ]
  },
  {
   "cell_type": "code",
   "execution_count": 25,
   "metadata": {
    "collapsed": false
   },
   "outputs": [
    {
     "name": "stdout",
     "output_type": "stream",
     "text": [
      "2.0\n"
     ]
    }
   ],
   "source": [
    "print x[0, 1]"
   ]
  },
  {
   "cell_type": "code",
   "execution_count": 26,
   "metadata": {
    "collapsed": false
   },
   "outputs": [
    {
     "name": "stdout",
     "output_type": "stream",
     "text": [
      "[[ 1.  0.  0.  0.  0.  0.  0.  0.  0.  0.]\n",
      " [ 0.  1.  0.  0.  0.  0.  0.  0.  0.  0.]\n",
      " [ 0.  0.  1.  0.  0.  0.  0.  0.  0.  0.]\n",
      " [ 0.  0.  0.  1.  0.  0.  0.  0.  0.  0.]\n",
      " [ 0.  0.  0.  0.  1.  0.  0.  0.  0.  0.]\n",
      " [ 0.  0.  0.  0.  0.  1.  0.  0.  0.  0.]\n",
      " [ 0.  0.  0.  0.  0.  0.  1.  0.  0.  0.]\n",
      " [ 0.  0.  0.  0.  0.  0.  0.  1.  0.  0.]\n",
      " [ 0.  0.  0.  0.  0.  0.  0.  0.  1.  0.]\n",
      " [ 0.  0.  0.  0.  0.  0.  0.  0.  0.  1.]]\n"
     ]
    }
   ],
   "source": [
    "C = eye(10) # creates a 2d matrix with ones on the diagonal and zeros elsewhere\n",
    "print C"
   ]
  },
  {
   "cell_type": "code",
   "execution_count": 27,
   "metadata": {
    "collapsed": false
   },
   "outputs": [
    {
     "name": "stdout",
     "output_type": "stream",
     "text": [
      "[ 0.  0.  0.  1.  0.  0.  0.  0.  0.  0.] \n",
      "\n",
      "[[ 0.  0.  0.  0.  1.  0.  0.  0.  0.  0.]\n",
      " [ 0.  0.  0.  0.  0.  1.  0.  0.  0.  0.]\n",
      " [ 0.  0.  0.  0.  0.  0.  1.  0.  0.  0.]] \n",
      "\n",
      "[[ 1.  0.  0.  0.]\n",
      " [ 0.  1.  0.  0.]\n",
      " [ 0.  0.  1.  0.]] \n",
      "\n"
     ]
    }
   ],
   "source": [
    "print C[:, 3], '\\n'       # all the rows of column with index 3. Note how the result becomes a row vector!\n",
    "print C[4:7, :], '\\n'     # all the columns of rows 4, 5 and 6\n",
    "print C[4:7, 4:8], '\\n'   # columns 4, 5, 6, 7 of rows 4, 5 and 6"
   ]
  },
  {
   "cell_type": "code",
   "execution_count": 28,
   "metadata": {
    "collapsed": false
   },
   "outputs": [
    {
     "name": "stdout",
     "output_type": "stream",
     "text": [
      "[[ 0.  0.  0.]\n",
      " [ 1.  0.  0.]\n",
      " [ 0.  0.  0.]\n",
      " [ 0.  1.  0.]\n",
      " [ 0.  0.  0.]\n",
      " [ 0.  0.  1.]\n",
      " [ 0.  0.  0.]\n",
      " [ 0.  0.  0.]\n",
      " [ 0.  0.  0.]\n",
      " [ 0.  0.  0.]]\n"
     ]
    }
   ],
   "source": [
    "print C[:, [1, 3, 5]]   # all the rows of columns 1, 3 and 5"
   ]
  },
  {
   "cell_type": "code",
   "execution_count": 29,
   "metadata": {
    "collapsed": false
   },
   "outputs": [
    {
     "name": "stdout",
     "output_type": "stream",
     "text": [
      "[[ 0.5   0.  ]\n",
      " [ 0.5   1.84]] \n",
      "\n",
      "as a. * b in matlab\n"
     ]
    }
   ],
   "source": [
    "a = array([[1., 0.], \n",
    "           [0.5, 2.3]])\n",
    "\n",
    "b = array([[0.5, 1.0], \n",
    "           [1.0, 0.8]])\n",
    "\n",
    "print a * b, '\\n'\n",
    "print 'as a. * b in matlab'"
   ]
  },
  {
   "cell_type": "code",
   "execution_count": 30,
   "metadata": {
    "collapsed": false
   },
   "outputs": [
    {
     "ename": "ValueError",
     "evalue": "operands could not be broadcast together with shapes (2,2) (3,2) ",
     "output_type": "error",
     "traceback": [
      "\u001b[1;31m---------------------------------------------------------------------------\u001b[0m",
      "\u001b[1;31mValueError\u001b[0m                                Traceback (most recent call last)",
      "\u001b[1;32m<ipython-input-30-f603d4719caf>\u001b[0m in \u001b[0;36m<module>\u001b[1;34m()\u001b[0m\n\u001b[1;32m----> 1\u001b[1;33m \u001b[1;32mprint\u001b[0m \u001b[0ma\u001b[0m \u001b[1;33m*\u001b[0m \u001b[0mones\u001b[0m\u001b[1;33m(\u001b[0m\u001b[1;33m(\u001b[0m\u001b[1;36m3\u001b[0m\u001b[1;33m,\u001b[0m\u001b[1;36m2\u001b[0m\u001b[1;33m)\u001b[0m\u001b[1;33m)\u001b[0m\u001b[1;33m\u001b[0m\u001b[0m\n\u001b[0m",
      "\u001b[1;31mValueError\u001b[0m: operands could not be broadcast together with shapes (2,2) (3,2) "
     ]
    }
   ],
   "source": [
    "print a * ones((3,2))"
   ]
  },
  {
   "cell_type": "code",
   "execution_count": 31,
   "metadata": {
    "collapsed": false
   },
   "outputs": [
    {
     "name": "stdout",
     "output_type": "stream",
     "text": [
      "[[ 0.5   0.  ]\n",
      " [ 0.25  2.3 ]]\n",
      "as a.*[c;c] in matlab\n"
     ]
    }
   ],
   "source": [
    "c = array([0.5, 1.0])\n",
    "print a * c\n",
    "print 'as a.*[c;c] in matlab'"
   ]
  },
  {
   "cell_type": "code",
   "execution_count": 32,
   "metadata": {
    "collapsed": false
   },
   "outputs": [
    {
     "name": "stdout",
     "output_type": "stream",
     "text": [
      "(2, 2) (2,)\n"
     ]
    }
   ],
   "source": [
    "print a.shape, c.shape"
   ]
  },
  {
   "cell_type": "code",
   "execution_count": 33,
   "metadata": {
    "collapsed": false
   },
   "outputs": [
    {
     "name": "stdout",
     "output_type": "stream",
     "text": [
      "[ 0.5  1. ] \n",
      "\n",
      "[[ 0.5  1. ]\n",
      " [ 0.5  1. ]]\n"
     ]
    }
   ],
   "source": [
    "c_ext = array([[0.5, 1.0],\n",
    "               [0.5, 1.0]])\n",
    "\n",
    "print c, '\\n'\n",
    "print c_ext"
   ]
  },
  {
   "cell_type": "code",
   "execution_count": 35,
   "metadata": {
    "collapsed": false
   },
   "outputs": [
    {
     "name": "stdout",
     "output_type": "stream",
     "text": [
      "[[ 0.5   0.  ]\n",
      " [ 0.25  2.3 ]]\n",
      "[[ 0.5   0.  ]\n",
      " [ 0.25  2.3 ]]\n",
      "as a.*[c' c'] in matlab\n"
     ]
    }
   ],
   "source": [
    "print a * c\n",
    "print a * c_ext\n",
    "print 'as a.*[c\\' c\\'] in matlab'"
   ]
  },
  {
   "cell_type": "code",
   "execution_count": 36,
   "metadata": {
    "collapsed": false
   },
   "outputs": [
    {
     "name": "stdout",
     "output_type": "stream",
     "text": [
      "[[ 0.5  0. ]\n",
      " [ 0.5  2.3]]\n"
     ]
    }
   ],
   "source": [
    "c_ext_cols = array([[0.5, 0.5],\n",
    "                    [1.0, 1.0]])\n",
    "\n",
    "print a * c_ext_cols"
   ]
  },
  {
   "cell_type": "code",
   "execution_count": 37,
   "metadata": {
    "collapsed": false
   },
   "outputs": [
    {
     "name": "stdout",
     "output_type": "stream",
     "text": [
      "(2, 1)\n",
      "[[ 0.5  0. ]\n",
      " [ 0.5  2.3]]\n"
     ]
    }
   ],
   "source": [
    "print c[:, newaxis].shape\n",
    "print a * c[:, newaxis]"
   ]
  },
  {
   "cell_type": "code",
   "execution_count": 38,
   "metadata": {
    "collapsed": false
   },
   "outputs": [
    {
     "name": "stdout",
     "output_type": "stream",
     "text": [
      "(2, 1, 2)\n",
      "(1, 2, 1)\n"
     ]
    }
   ],
   "source": [
    "print a[:, newaxis, :].shape\n",
    "print c[newaxis, :, newaxis].shape"
   ]
  },
  {
   "cell_type": "code",
   "execution_count": 42,
   "metadata": {
    "collapsed": false
   },
   "outputs": [
    {
     "name": "stdout",
     "output_type": "stream",
     "text": [
      "[[ 1.   0. ]\n",
      " [ 0.5  2.3]] \n",
      "\n",
      "[ 0.5  1. ] \n",
      "\n",
      "[[[ 0.5   0.  ]\n",
      "  [ 1.    0.  ]]\n",
      "\n",
      " [[ 0.25  1.15]\n",
      "  [ 0.5   2.3 ]]]\n",
      "\n",
      "\n",
      "two lines in matlab:\n",
      "g(:,:,1)=(a(1,:)'*c)';\n",
      "g(:,:,2)=(a(2,:)'*c)';\n"
     ]
    }
   ],
   "source": [
    "print a, '\\n'\n",
    "print c, '\\n'\n",
    "print a[:, newaxis, :] * c[newaxis, :, newaxis]\n",
    "print '\\n'\n",
    "print 'two lines in matlab:'\n",
    "print 'g(:,:,1)=(a(1,:)\\'*c)\\';'\n",
    "print 'g(:,:,2)=(a(2,:)\\'*c)\\';'"
   ]
  },
  {
   "cell_type": "code",
   "execution_count": 43,
   "metadata": {
    "collapsed": true
   },
   "outputs": [],
   "source": [
    "FCD = array([[[ 0.272,  0.34 ,  0.068],\n",
    "              [ 0.017,  0.034,  0.119]],\n",
    "\n",
    "             [[ 0.048,  0.06 ,  0.012],\n",
    "              [ 0.003,  0.006,  0.021]]])"
   ]
  },
  {
   "cell_type": "code",
   "execution_count": 60,
   "metadata": {
    "collapsed": false
   },
   "outputs": [
    {
     "name": "stdout",
     "output_type": "stream",
     "text": [
      "matlab: CD = sum(CDF,3), because the axis 0 is represented as z in matlab, ergo 3\n",
      "(2, 3)\n",
      "[[ 0.32  0.4   0.08]\n",
      " [ 0.02  0.04  0.14]]\n",
      "matlab: C = sum(CD,2), because the axis 1 is represented as y in matlab, ergo 2\n",
      "[ 0.8  0.2]\n"
     ]
    }
   ],
   "source": [
    "CD = FCD.sum(0)  # sums out the 0th axis (F). Equivalent to FCD.sum(axis=0)\n",
    "print 'matlab: CD = sum(CDF,3), because the axis 0 is represented as z in matlab, ergo 3'\n",
    "print CD.shape\n",
    "print CD\n",
    "C = CD.sum(1)\n",
    "print 'matlab: C = sum(CD,2), because the axis 1 is represented as y in matlab, ergo 2'\n",
    "print C"
   ]
  },
  {
   "cell_type": "code",
   "execution_count": 45,
   "metadata": {
    "collapsed": false
   },
   "outputs": [
    {
     "name": "stdout",
     "output_type": "stream",
     "text": [
      "1.0\n"
     ]
    }
   ],
   "source": [
    "print FCD.sum()"
   ]
  },
  {
   "cell_type": "code",
   "execution_count": 58,
   "metadata": {
    "collapsed": false
   },
   "outputs": [
    {
     "name": "stdout",
     "output_type": "stream",
     "text": [
      "[[ 0.68  0.17]\n",
      " [ 0.12  0.03]]\n",
      "matlab: FC = sum(FCD,2)\n",
      "matlab: FC = (squeeze(FC))'\n",
      "\n",
      "\n",
      "[[ 0.85  0.85]\n",
      " [ 0.15  0.15]]\n",
      "matlab: F_cond_C = [FC / C'  FC / C']\n"
     ]
    }
   ],
   "source": [
    "FC = FCD.sum(2)\n",
    "print FC\n",
    "print 'matlab: FC = sum(FCD,2)'\n",
    "print 'matlab: FC = (squeeze(FC))\\''\n",
    "print '\\n'\n",
    "F_cond_C = FC / C  # C gets broadcasted over all rows!\n",
    "print F_cond_C\n",
    "print 'matlab: F_cond_C = [FC / C\\'  FC / C\\']'"
   ]
  },
  {
   "cell_type": "code",
   "execution_count": 59,
   "metadata": {
    "collapsed": false
   },
   "outputs": [
    {
     "name": "stdout",
     "output_type": "stream",
     "text": [
      "[ 0.85  0.15]\n",
      "matlab: F_cond_C = FC / C'\n"
     ]
    }
   ],
   "source": [
    "print F_cond_C[:, 1]\n",
    "print 'matlab: F_cond_C = FC / C\\''"
   ]
  },
  {
   "cell_type": "code",
   "execution_count": 49,
   "metadata": {
    "collapsed": false
   },
   "outputs": [
    {
     "name": "stdout",
     "output_type": "stream",
     "text": [
      "[[[ 0.272  0.34   0.068]\n",
      "  [ 0.017  0.034  0.119]]\n",
      "\n",
      " [[ 0.048  0.06   0.012]\n",
      "  [ 0.003  0.006  0.021]]]\n",
      "(2, 2, 3)\n"
     ]
    }
   ],
   "source": [
    "print FCD\n",
    "print FCD.shape"
   ]
  },
  {
   "cell_type": "code",
   "execution_count": null,
   "metadata": {
    "collapsed": true
   },
   "outputs": [],
   "source": []
  }
 ],
 "metadata": {
  "kernelspec": {
   "display_name": "Python 2",
   "language": "python",
   "name": "python2"
  },
  "language_info": {
   "codemirror_mode": {
    "name": "ipython",
    "version": 2
   },
   "file_extension": ".py",
   "mimetype": "text/x-python",
   "name": "python",
   "nbconvert_exporter": "python",
   "pygments_lexer": "ipython2",
   "version": "2.7.10"
  }
 },
 "nbformat": 4,
 "nbformat_minor": 0
}
