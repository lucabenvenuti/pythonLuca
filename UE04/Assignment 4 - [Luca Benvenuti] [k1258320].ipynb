{
 "cells": [
  {
   "cell_type": "markdown",
   "metadata": {},
   "source": [
    "# Assignment 4\n",
    "\n",
    "This notebook shows how to learn the structure of a Bayesian net using search in a restricted state space. The restriction is defined by variable ordering. The models are evaluated using the Bayesian information criterion.\n",
    "\n",
    "Since we are dealing with a variable structure, we need to store it in some way. We do it using two lists:\n",
    "  - One list contains the (conditional) probability tables (CPTs) of the variables; This list will usually be called ```dists``` in this notebook.\n",
    "  - The second list contains list of indices that denote to which columns in the data the dimensions of the corresponding CPTs belong to as lists. This list will usually be called ```indices``` in this notebook.\n",
    "  \n",
    "For example, assume we have three random variables A, B, and C. The data is stored accordingly. Further assume we want to encode the model that factorises in the following way:\n",
    "$$ P(A, B, C) = P(A) * P(B \\mid A) * P(C \\mid A, B).$$\n",
    "\n",
    "The two lists will then look like this (following the same conventions as used in the previous exercises):\n",
    "\n",
    "```python\n",
    "dists = [A, B_A, C_AB]\n",
    "indices = [[0], [1, 0], [2, 0, 1]]\n",
    "```\n",
    "\n",
    "## Additional Libraries\n",
    "\n",
    "For printing the network structure, you will need the ```networkx``` library installed. If you installed the Anaconda Python distribution, just use the following command:\n",
    "\n",
    "```\n",
    "   conda install networkx\n",
    "```\n",
    "\n",
    "## Passing functions as parameters\n",
    "\n",
    "In Python, functions are [first-class citizens](https://en.wikipedia.org/wiki/First-class_function). This means, you can pass them as parameters to other functions:"
   ]
  },
  {
   "cell_type": "code",
   "execution_count": 16,
   "metadata": {
    "collapsed": false
   },
   "outputs": [
    {
     "name": "stdout",
     "output_type": "stream",
     "text": [
      "bzz 3\n"
     ]
    }
   ],
   "source": [
    "def my_foo(func):\n",
    "    print func(3)\n",
    "\n",
    "def my_bar(num):\n",
    "    return 'baz {}'.format(num)\n",
    "\n",
    "def my_bar2(num):\n",
    "    return 'bzz {}'.format(num)\n",
    "\n",
    "my_foo(func = my_bar2)"
   ]
  },
  {
   "cell_type": "markdown",
   "metadata": {},
   "source": [
    "We will use this to pass different ```score``` functions to the ```learn_net``` function.\n",
    "\n",
    "# Structure Learning"
   ]
  },
  {
   "cell_type": "code",
   "execution_count": 17,
   "metadata": {
    "collapsed": false,
    "scrolled": false
   },
   "outputs": [
    {
     "name": "stdout",
     "output_type": "stream",
     "text": [
      "Populating the interactive namespace from numpy and matplotlib\n"
     ]
    }
   ],
   "source": [
    "import itertools as it\n",
    "import networkx as nx   # necessary for network structure plots\n",
    "%pylab inline"
   ]
  },
  {
   "cell_type": "markdown",
   "metadata": {},
   "source": [
    "## Helper Functions"
   ]
  },
  {
   "cell_type": "code",
   "execution_count": 18,
   "metadata": {
    "collapsed": false
   },
   "outputs": [],
   "source": [
    "def mle(data, var, parents=None):\n",
    "    \"\"\"\n",
    "    Does maximum likelihood estimation of the (conditional) probability distribution\n",
    "    of a random variable given the data.\n",
    "    \n",
    "    :param data:    data to use for estimating the distribution\n",
    "    :param var:     index of the variable to estimate the distribution for\n",
    "    :param parents: parents (ids of given variables) of the variable in the Bayes net,\n",
    "                    given as list. If None or of length 0, the variable is assumed to have no parents.\n",
    "    :return:        Estimated (conditional) probability distribution of the random variable\n",
    "    \"\"\"\n",
    "    parents = parents or []\n",
    "    n_vars = len(parents) + 1\n",
    "    \n",
    "    Y = data[:, [var] + parents]\n",
    "    X = empty((2,) * n_vars)\n",
    "    \n",
    "    for vals in it.product([0, 1], repeat=n_vars):\n",
    "        X[vals] = np.sum(np.all(Y == vals, axis=1))\n",
    "        \n",
    "    return X / X.sum(0)\n",
    "\n",
    "\n",
    "def log_likelihood(data, dists, indices):\n",
    "    \"\"\"\n",
    "    Computes the log likelihood of the data given a model. A model is given as a list\n",
    "    of distributions (conditional probability tables) and corresponding indices describing\n",
    "    which dimension of each distribution corresponds to which random variable. E.g., \n",
    "    assume you have data for three random variables A, B and C given in alphabetical order.\n",
    "    If dists looks like [A_B, B, C_AB], indices would be [(0, 1), (1,), (2, 0, 1)].\n",
    "    \n",
    "    :param dists:   list of (conditional) probability tables for the random variables\n",
    "    :param indices: list of variable indices corresponding to the CPTs stored in 'dists'\n",
    "    :param data:    data to compute the log-likelihood of\n",
    "    :return:        log-likelihood of data given the model as encoded by dists and indices\n",
    "    \"\"\"\n",
    "    log_l = 0\n",
    "    for y in data:\n",
    "        for i in range(len(dists)):\n",
    "            idx = indices[i]\n",
    "            log_l += np.log(dists[i][tuple(y[idx])])\n",
    "            \n",
    "    return log_l\n",
    "\n",
    "\n",
    "def mean_log_likelihood(data, dists, indices):\n",
    "    \"\"\"\n",
    "    Computes the mean log likelihood of each data point in data.\n",
    "    :param dists:   list of (conditional) probability tables for the random variables\n",
    "    :param indices: list of variable indices corresponding to the CPTs stored in 'dists'\n",
    "    :param data:    data to compute the log-likelihood of\n",
    "    :return:        mean log-likelihood of data given the model as encoded by dists and indices\n",
    "    \"\"\"\n",
    "    return log_likelihood(data, dists, indices) / len(data)\n",
    "\n",
    "\n",
    "def bic(data, dists, indices):\n",
    "    \"\"\"\n",
    "    Computes the Bayesian information score\n",
    "    :param dists:   list of (conditional) probability tables for the random variables\n",
    "    :param indices: list of variable indices corresponding to the CPTs stored in 'dists'\n",
    "    :param data:    data to compute the log-likelihood of\n",
    "    :return:        Bayesian information score\n",
    "    \"\"\"\n",
    "    i = 0\n",
    "    for c in indices:\n",
    "        if len(c) == 1:\n",
    "            i+= 1\n",
    "\n",
    "    return log_likelihood(data, dists, indices) - 0.5 * log(len(data)) * i\n"
   ]
  },
  {
   "cell_type": "code",
   "execution_count": 19,
   "metadata": {
    "collapsed": false
   },
   "outputs": [],
   "source": [
    "def learn_dists(data, indices):\n",
    "    a = [0] * size(indices)\n",
    "    b = [0] * size(indices)\n",
    "\n",
    "    #i = 0\n",
    "    #for c in indices:\n",
    "    #    a[i] = c[0]\n",
    "    #    b[i] = c[1:] or []\n",
    "    #    i += 1\n",
    "        \n",
    "    for idx,c in enumerate(indices):\n",
    "        a[idx] = c[0]\n",
    "        b[idx] = c[1:] or []\n",
    "        \n",
    "        \n",
    "    return [mle(data, a[0], b[0]), mle(data, a[1], b[1]), mle(data, a[2], b[2]), mle(data, a[3], b[3]), mle(data, a[4], b[4])]    \n",
    "    "
   ]
  },
  {
   "cell_type": "markdown",
   "metadata": {},
   "source": [
    "## Learn the network structure and parameters"
   ]
  },
  {
   "cell_type": "code",
   "execution_count": 20,
   "metadata": {
    "collapsed": false
   },
   "outputs": [
    {
     "ename": "SyntaxError",
     "evalue": "invalid syntax (<ipython-input-20-b1605f19332f>, line 23)",
     "output_type": "error",
     "traceback": [
      "\u001b[1;36m  File \u001b[1;32m\"<ipython-input-20-b1605f19332f>\"\u001b[1;36m, line \u001b[1;32m23\u001b[0m\n\u001b[1;33m    for d in indices\u001b[0m\n\u001b[1;37m                    ^\u001b[0m\n\u001b[1;31mSyntaxError\u001b[0m\u001b[1;31m:\u001b[0m invalid syntax\n"
     ]
    }
   ],
   "source": [
    "def learn_net(data, score, var_ord):\n",
    "    \"\"\"\n",
    "    Learns the structure and parameters of a Bayesian network.\n",
    "    \n",
    "    :param data:    data to learn the network from. Each column corresponds to a random variable\n",
    "    :param score:   score function to use: bayesian information criterion or log-likelihood.\n",
    "    :param var_ord: ordering of the variables as list of indices, defines how the search space is restricted.\n",
    "    :return:        tuple of two lists: one holds the distributions, the other the indices of the random variables the\n",
    "                    distributions represent\n",
    "    \"\"\"\n",
    "    \n",
    "    # TODO: IMPLEMENT THIS\n",
    "    #dists = []\n",
    "    #indices = []\n",
    "    j = 0\n",
    "    for c in var_ord:\n",
    "        indices[j] = [d]\n",
    "        j += 1\n",
    "        \n",
    "    dists = learn_dists(data, indices)\n",
    "    \n",
    "    j = 0\n",
    "    for d in indices\n",
    "        \n",
    "    \n",
    "    \n",
    "    \n",
    "    score(data, dists, indices)\n",
    "\n",
    "    return dists, indices"
   ]
  },
  {
   "cell_type": "code",
   "execution_count": 21,
   "metadata": {
    "collapsed": false
   },
   "outputs": [],
   "source": [
    "def learn_params(data):\n",
    "    \"\"\"\n",
    "    Learns the parameters of the Bayesian network with a predefined structure as given on the assignment sheet.\n",
    "    \n",
    "    :param data:    data to learn the network from. \n",
    "    :return:        tuple of two lists: one holds the distributions, the other the indices of the random variables the\n",
    "                    distributions represent\n",
    "    \"\"\"\n",
    "    \n",
    "    # TODO: IMPLEMENT THIS\n",
    "\n",
    "    #dists = [mle(Y, 0), mle(Y, 1, [0]), mle(Y, 2), mle(Y, 3, [2, 0]), mle(Y, 4, [3])]\n",
    "    indices = [[0], [1, 0], [2], [3, 2, 0], [4, 3]]\n",
    "    \n",
    "    dists = learn_dists(data, indices)\n",
    "\n",
    "    return dists, indices"
   ]
  },
  {
   "cell_type": "markdown",
   "metadata": {},
   "source": [
    "## Load data"
   ]
  },
  {
   "cell_type": "code",
   "execution_count": 22,
   "metadata": {
    "collapsed": true
   },
   "outputs": [],
   "source": [
    "Y_train_small = loadtxt('train_small.txt', dtype=int)\n",
    "Y_train_medium = loadtxt('train_medium.txt', dtype=int)\n",
    "Y_train_big = loadtxt('train_big.txt', dtype=int)\n",
    "Y_test = loadtxt('test.txt', dtype=int)"
   ]
  },
  {
   "cell_type": "markdown",
   "metadata": {},
   "source": [
    "# Learn networks and draw graphs\n",
    "\n",
    "## Helper functions"
   ]
  },
  {
   "cell_type": "code",
   "execution_count": 23,
   "metadata": {
    "collapsed": true
   },
   "outputs": [],
   "source": [
    "def draw_graph(indices):\n",
    "    \"\"\"\n",
    "    Draw the Bayesian net. Arrows are indicated by edges getting bolder.\n",
    "    :param indices:  indices defining the structure of the net, as returned by the learn functions\n",
    "    \"\"\"\n",
    "    node_names = ['stress', 'easily cold', 'genetic', 'blood p.', 'heart att.']\n",
    "    G = nx.DiGraph()\n",
    "    G.add_nodes_from(node_names)\n",
    "    for i in indices:\n",
    "        for p in i[1:]:\n",
    "            G.add_edge(node_names[p], node_names[i[0]])\n",
    "    pos=nx.circular_layout(G)\n",
    "    nx.draw(G, pos, with_labels=True, node_size=5000, node_color='white')\n",
    "    \n",
    "def evaluate_net(net, train_set, test_set):\n",
    "    \"\"\"\n",
    "    Evaluates a Bayes net on a set of train and test data.\n",
    "    :param net: tuple of the 'dists' and 'indices' lists\n",
    "    :param train_set: training set to evaluate\n",
    "    :param test_set:  test set to evaluate\n",
    "    :return: log-likelihoods of train and test data as tuple\n",
    "    \"\"\"\n",
    "    train_logl = mean_log_likelihood(train_set, *net)\n",
    "    test_logl = mean_log_likelihood(test_set, *net)\n",
    "    print 'Avg. train log-likelihood:', train_logl\n",
    "    print 'Avg. test log-likelihood:', test_logl\n",
    "    draw_graph(net[1])\n",
    "    return train_logl, test_logl"
   ]
  },
  {
   "cell_type": "markdown",
   "metadata": {},
   "source": [
    "## Small Train Set\n",
    "\n",
    "### Pre-defined structure"
   ]
  },
  {
   "cell_type": "code",
   "execution_count": 24,
   "metadata": {
    "collapsed": false
   },
   "outputs": [
    {
     "name": "stdout",
     "output_type": "stream",
     "text": [
      "Avg. train log-likelihood: -1.84491316649\n",
      "Avg. test log-likelihood: -1.82029108112\n"
     ]
    },
    {
     "data": {
      "image/png": "[encoded data removed]",
      "text/plain": [
       "<matplotlib.figure.Figure at 0x7f53d4aa4390>"
      ]
     },
     "metadata": {},
     "output_type": "display_data"
    }
   ],
   "source": [
    "sm_gs_train_logl, sm_gs_test_logl = evaluate_net(\n",
    "    learn_params(Y_train_small),\n",
    "    Y_train_small,\n",
    "    Y_test\n",
    ")"
   ]
  },
  {
   "cell_type": "markdown",
   "metadata": {},
   "source": [
    "### Standard Variable Order"
   ]
  },
  {
   "cell_type": "code",
   "execution_count": null,
   "metadata": {
    "collapsed": false,
    "scrolled": false
   },
   "outputs": [],
   "source": [
    "sm_ord_train_logl, sm_ord_test_logl = evaluate_net(\n",
    "    learn_net(Y_train_small, score=bic, var_ord=range(5)),\n",
    "    Y_train_small, \n",
    "    Y_test\n",
    ")"
   ]
  },
  {
   "cell_type": "markdown",
   "metadata": {},
   "source": [
    "### Reverse Variable Order"
   ]
  },
  {
   "cell_type": "code",
   "execution_count": null,
   "metadata": {
    "collapsed": false,
    "scrolled": false
   },
   "outputs": [],
   "source": [
    "sm_rev_train_logl, sm_rev_test_logl = evaluate_net(\n",
    "    learn_net(Y_train_small, score=bic, var_ord=range(5)[::-1]),\n",
    "    Y_train_small, \n",
    "    Y_test\n",
    ")"
   ]
  },
  {
   "cell_type": "markdown",
   "metadata": {},
   "source": [
    "### \"Random\" Variable Order"
   ]
  },
  {
   "cell_type": "code",
   "execution_count": null,
   "metadata": {
    "collapsed": false,
    "scrolled": false
   },
   "outputs": [],
   "source": [
    "sm_rnd_train_logl, sm_rnd_test_logl = evaluate_net(\n",
    "    learn_net(Y_train_small, score=bic, var_ord=[3, 0, 1, 4, 2]),\n",
    "    Y_train_small, \n",
    "    Y_test\n",
    ")"
   ]
  },
  {
   "cell_type": "markdown",
   "metadata": {},
   "source": [
    "### Standard Order, Log-Likelihood Score"
   ]
  },
  {
   "cell_type": "code",
   "execution_count": null,
   "metadata": {
    "collapsed": false
   },
   "outputs": [],
   "source": [
    "sm_ord_ll_train_logl, sm_ord_ll_test_logl = evaluate_net(\n",
    "    learn_net(Y_train_small, score=log_likelihood, var_ord=range(5)),\n",
    "    Y_train_small, \n",
    "    Y_test\n",
    ")"
   ]
  },
  {
   "cell_type": "markdown",
   "metadata": {},
   "source": [
    "## Medium Train Set\n",
    "\n",
    "### Pre-defined Structure"
   ]
  },
  {
   "cell_type": "code",
   "execution_count": null,
   "metadata": {
    "collapsed": false
   },
   "outputs": [],
   "source": [
    "md_gs_train_logl, md_gs_test_logl = evaluate_net(\n",
    "    learn_params(Y_train_medium),\n",
    "    Y_train_medium,\n",
    "    Y_test\n",
    ")"
   ]
  },
  {
   "cell_type": "markdown",
   "metadata": {},
   "source": [
    "### Standard Variable Order"
   ]
  },
  {
   "cell_type": "code",
   "execution_count": null,
   "metadata": {
    "collapsed": false,
    "scrolled": true
   },
   "outputs": [],
   "source": [
    "md_ord_train_logl, md_ord_test_logl = evaluate_net(\n",
    "    learn_net(Y_train_medium, score=bic, var_ord=range(5)),\n",
    "    Y_train_medium,\n",
    "    Y_test\n",
    ")"
   ]
  },
  {
   "cell_type": "markdown",
   "metadata": {},
   "source": [
    "### Reverse Variable Order"
   ]
  },
  {
   "cell_type": "code",
   "execution_count": null,
   "metadata": {
    "collapsed": false
   },
   "outputs": [],
   "source": [
    "md_rev_train_logl, md_rev_test_logl = evaluate_net(\n",
    "    learn_net(Y_train_medium, score=bic, var_ord=range(5)[::-1]),\n",
    "    Y_train_medium,\n",
    "    Y_test\n",
    ")"
   ]
  },
  {
   "cell_type": "markdown",
   "metadata": {},
   "source": [
    "### \"Random\" Variable Order"
   ]
  },
  {
   "cell_type": "code",
   "execution_count": null,
   "metadata": {
    "collapsed": false,
    "scrolled": true
   },
   "outputs": [],
   "source": [
    "md_rnd_train_logl, md_rnd_test_logl = evaluate_net(\n",
    "    learn_net(Y_train_medium, score=bic, var_ord=[3, 0, 1, 4, 2]),\n",
    "    Y_train_medium,\n",
    "    Y_test\n",
    ")"
   ]
  },
  {
   "cell_type": "markdown",
   "metadata": {},
   "source": [
    "### Standard Order, Log-Likelihood Score"
   ]
  },
  {
   "cell_type": "code",
   "execution_count": null,
   "metadata": {
    "collapsed": false,
    "scrolled": true
   },
   "outputs": [],
   "source": [
    "md_ord_ll_train_logl, md_ord_ll_test_logl = evaluate_net(\n",
    "    learn_net(Y_train_medium, score=log_likelihood, var_ord=range(5)),\n",
    "    Y_train_medium,\n",
    "    Y_test\n",
    ")"
   ]
  },
  {
   "cell_type": "markdown",
   "metadata": {},
   "source": [
    "## Big Train Set\n",
    "\n",
    "### Pre-defined Structure"
   ]
  },
  {
   "cell_type": "code",
   "execution_count": null,
   "metadata": {
    "collapsed": false
   },
   "outputs": [],
   "source": [
    "bg_gs_train_logl, bg_gs_test_logl = evaluate_net(\n",
    "    learn_params(Y_train_big),\n",
    "    Y_train_big,\n",
    "    Y_test\n",
    ")"
   ]
  },
  {
   "cell_type": "markdown",
   "metadata": {},
   "source": [
    "### Standard Variable Order"
   ]
  },
  {
   "cell_type": "code",
   "execution_count": null,
   "metadata": {
    "collapsed": false
   },
   "outputs": [],
   "source": [
    "bg_ord_train_logl, bg_ord_test_logl = evaluate_net(\n",
    "    learn_net(Y_train_big, score=bic, var_ord=range(5)),\n",
    "    Y_train_big,\n",
    "    Y_test\n",
    ")"
   ]
  },
  {
   "cell_type": "markdown",
   "metadata": {},
   "source": [
    "### Reverse Variable Order"
   ]
  },
  {
   "cell_type": "code",
   "execution_count": null,
   "metadata": {
    "collapsed": false
   },
   "outputs": [],
   "source": [
    "bg_rev_train_logl, bg_rev_test_logl = evaluate_net(\n",
    "    learn_net(Y_train_big, score=bic, var_ord=range(5)[::-1]),\n",
    "    Y_train_big,\n",
    "    Y_test\n",
    ")"
   ]
  },
  {
   "cell_type": "markdown",
   "metadata": {},
   "source": [
    "### \"Random\" Variable Order"
   ]
  },
  {
   "cell_type": "code",
   "execution_count": null,
   "metadata": {
    "collapsed": false
   },
   "outputs": [],
   "source": [
    "bg_rnd_train_logl, bg_rnd_test_logl = evaluate_net(\n",
    "    learn_net(Y_train_big, score=bic, var_ord=[3, 0, 1, 4, 2]),\n",
    "    Y_train_big,\n",
    "    Y_test\n",
    ")"
   ]
  },
  {
   "cell_type": "markdown",
   "metadata": {},
   "source": [
    "### Standard Variable Order, Log-Likelihood Score"
   ]
  },
  {
   "cell_type": "code",
   "execution_count": null,
   "metadata": {
    "collapsed": false
   },
   "outputs": [],
   "source": [
    "bg_ord_ll_train_logl, bg_ord_ll_test_logl = evaluate_net(\n",
    "    learn_net(Y_train_big, score=log_likelihood, var_ord=range(5)),\n",
    "    Y_train_big,\n",
    "    Y_test\n",
    ")"
   ]
  },
  {
   "cell_type": "markdown",
   "metadata": {},
   "source": [
    "# Compare Test Set Performance given Train Set Size"
   ]
  },
  {
   "cell_type": "code",
   "execution_count": null,
   "metadata": {
    "collapsed": false
   },
   "outputs": [],
   "source": [
    "def compare_train_size(given_test_loss, ord_test_loss, rev_test_loss, rnd_test_loss, ord_ll_test_loss):\n",
    "    plt.figure(figsize=(15, 10))\n",
    "    plt.plot(ord_test_loss, marker='d', label='ordered')\n",
    "    plt.plot(rev_test_loss, marker='d', label='reverse')\n",
    "    plt.plot(rnd_test_loss, marker='d', label='random')\n",
    "    plt.plot(ord_ll_test_loss, marker='d', label='ordered log-l')\n",
    "    plt.plot(given_test_loss, marker='d', label='given structure')\n",
    "    plt.xlim(-0.25, 2.25)\n",
    "    plt.xticks([0, 1, 2], ['Small', 'Medium', 'Large'])\n",
    "    plt.ylabel('Test Data Log-Likelihood')\n",
    "    plt.xlabel('Train Set')\n",
    "    plt.legend(loc='best')"
   ]
  },
  {
   "cell_type": "code",
   "execution_count": null,
   "metadata": {
    "collapsed": false,
    "scrolled": false
   },
   "outputs": [],
   "source": [
    "compare_train_size([sm_gs_test_logl, md_gs_test_logl, bg_gs_test_logl],\n",
    "                   [sm_ord_test_logl, md_ord_test_logl, bg_ord_test_logl],\n",
    "                   [sm_rev_test_logl, md_rev_test_logl, bg_rev_test_logl],\n",
    "                   [sm_rnd_test_logl, md_rnd_test_logl, bg_rnd_test_logl],\n",
    "                   [sm_ord_ll_test_logl, md_ord_ll_test_logl, bg_ord_ll_test_logl],\n",
    "                   )"
   ]
  }
 ],
 "metadata": {
  "kernelspec": {
   "display_name": "Python 2",
   "language": "python",
   "name": "python2"
  },
  "language_info": {
   "codemirror_mode": {
    "name": "ipython",
    "version": 2
   },
   "file_extension": ".py",
   "mimetype": "text/x-python",
   "name": "python",
   "nbconvert_exporter": "python",
   "pygments_lexer": "ipython2",
   "version": "2.7.10"
  }
 },
 "nbformat": 4,
 "nbformat_minor": 0
}
