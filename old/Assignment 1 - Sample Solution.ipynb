{
 "cells": [
  {
   "cell_type": "code",
   "execution_count": 1,
   "metadata": {
    "collapsed": false
   },
   "outputs": [
    {
     "name": "stdout",
     "output_type": "stream",
     "text": [
      "Populating the interactive namespace from numpy and matplotlib\n"
     ]
    }
   ],
   "source": [
    "%pylab inline"
   ]
  },
  {
   "cell_type": "markdown",
   "metadata": {},
   "source": [
    "# Assignment 1"
   ]
  },
  {
   "cell_type": "markdown",
   "metadata": {},
   "source": [
    "Let $A$, $B$ and $C$ be random variables. We use the following notations for probability tables:\n",
    "\n",
    " + `ABC` represents $P(A, B, C)$\n",
    " + `AB_C` represents $P(A, B \\mid C)$"
   ]
  },
  {
   "cell_type": "markdown",
   "metadata": {},
   "source": [
    "## Exercise 1.1"
   ]
  },
  {
   "cell_type": "markdown",
   "metadata": {},
   "source": [
    "First, we assign the three dimensions (depth, rows, columns) to the three random variables HU, CR, CO.  \n",
    "Cr ... depth  \n",
    "Hu ... rows  \n",
    "Co ... columns  \n",
    "\n",
    "Index 0 corresponds to the positive outcome (e.g. '$cold$'), index 1 to the other (e.g. '$\\neg cold$').\n",
    "\n",
    "Then, we can write the joint probability as:"
   ]
  },
  {
   "cell_type": "code",
   "execution_count": 2,
   "metadata": {
    "collapsed": false
   },
   "outputs": [],
   "source": [
    "CrHuCo = array([[[0.075, 0.045], \n",
    "                 [0.023, 0.007]],\n",
    "                [[0.08,  0.17 ],\n",
    "                 [0.17,  0.43 ]]])"
   ]
  },
  {
   "cell_type": "markdown",
   "metadata": {},
   "source": [
    "### 1.1 A\n",
    "\n",
    "What is the probability that Olivia is crying?\n",
    "\n",
    "We need to compute $P(Crying=crying)$. We do this by marginalisation (summing out all other variables):"
   ]
  },
  {
   "cell_type": "code",
   "execution_count": 3,
   "metadata": {
    "collapsed": false
   },
   "outputs": [
    {
     "name": "stdout",
     "output_type": "stream",
     "text": [
      "0.15\n"
     ]
    }
   ],
   "source": [
    "CrHu = CrHuCo.sum(2)\n",
    "Cr = CrHu.sum(1)  # We could compute this directly: Cr = CrHuCo.sum((1, 2))\n",
    "print Cr[0]"
   ]
  },
  {
   "cell_type": "markdown",
   "metadata": {},
   "source": [
    "### 1.1 B\n",
    "\n",
    "What is the probability that Olivia is hungry when she is crying?\n",
    "\n",
    "We need to compute $P(Hungry=hungry \\mid Crying=crying)$! We use the definition $P(A \\mid B) = \\frac{P(A,B)}{P(B)}$ here:"
   ]
  },
  {
   "cell_type": "code",
   "execution_count": 4,
   "metadata": {
    "collapsed": false
   },
   "outputs": [
    {
     "name": "stdout",
     "output_type": "stream",
     "text": [
      "0.8\n"
     ]
    }
   ],
   "source": [
    "HuCr = CrHu.transpose(1,0)\n",
    "Hu_Cr = HuCr / Cr[newaxis, :]  # We would not need to manually add newaxis here!\n",
    "print Hu_Cr[0,0]"
   ]
  },
  {
   "cell_type": "markdown",
   "metadata": {},
   "source": [
    "### 1.1 C\n",
    "\n",
    "What is the probability that Olivia is crying when she is cold? Here, we need $P(Crying=crying \\mid Cold=cold)$:"
   ]
  },
  {
   "cell_type": "code",
   "execution_count": 5,
   "metadata": {
    "collapsed": false
   },
   "outputs": [
    {
     "name": "stdout",
     "output_type": "stream",
     "text": [
      "0.281609195402\n"
     ]
    }
   ],
   "source": [
    "CrCo = CrHuCo.sum(1)\n",
    "Co = CrCo.sum(0)\n",
    "Cr_Co = CrCo / Co[newaxis, :]\n",
    "print Cr_Co[0,0]"
   ]
  },
  {
   "cell_type": "markdown",
   "metadata": {},
   "source": [
    "### 1.1 D"
   ]
  },
  {
   "cell_type": "code",
   "execution_count": 6,
   "metadata": {
    "collapsed": false
   },
   "outputs": [
    {
     "name": "stdout",
     "output_type": "stream",
     "text": [
      "[ 0.12  0.25]\n",
      "[ 0.32432432  0.67567568]\n"
     ]
    }
   ],
   "source": [
    "Hu = CrHu.sum(0)\n",
    "Cr_Hu = CrHu / Hu[newaxis,:]\n",
    "print CrHu[:,0]\n",
    "print Cr_Hu[:,0]"
   ]
  },
  {
   "cell_type": "markdown",
   "metadata": {},
   "source": [
    "The difference between them is that in the first case, we are talking about probabilities of events without any knowledge of the world - we randomly look at Olivia, and want to know what is the probability that she is crying (or not) **and** that she is hungry at the same time. The two values do not sum to one because there are also other events possible: it could also happen that Olivia is not hungry (most of the time) when looking at her. We are looking at a part of the joint probability $P(Crying, Hungry)$.\n",
    "\n",
    "The conditional gives us the probability that she is crying (or not), when we **already know** (\"given\") that she is hungry. Here, we already know something about the state of Olivia."
   ]
  },
  {
   "cell_type": "markdown",
   "metadata": {},
   "source": [
    "## Exercise 1.2\n",
    "\n",
    "First, write down the probability tables."
   ]
  },
  {
   "cell_type": "code",
   "execution_count": 7,
   "metadata": {
    "collapsed": false
   },
   "outputs": [],
   "source": [
    "# car colours\n",
    "C = array([0.23, 0.21, 0.17, 0.13, 0.01, 0.25])\n",
    "# glass wearer given sex\n",
    "G_S = array([[0.65, 0.55],\n",
    "             [0.35, 0.45]])\n",
    "# sex distribution\n",
    "S = array([0.5, 0.5])"
   ]
  },
  {
   "cell_type": "markdown",
   "metadata": {},
   "source": [
    "### 1.2 A\n",
    "\n",
    "We need the distribution $P(G, C)$. Since we know from the text that $G$ and $C$ are independent, this factorises as $P(G) \\cdot P(C)$."
   ]
  },
  {
   "cell_type": "code",
   "execution_count": 8,
   "metadata": {
    "collapsed": false
   },
   "outputs": [
    {
     "name": "stdout",
     "output_type": "stream",
     "text": [
      "0.006\n"
     ]
    }
   ],
   "source": [
    "GS = G_S * S[newaxis, :]\n",
    "G = GS.sum(1)\n",
    "print G[0] * C[4]"
   ]
  },
  {
   "cell_type": "markdown",
   "metadata": {},
   "source": [
    "### 1.2 B\n",
    "\n",
    "Here, the question is about $P(G, C \\mid S)$. We know from the text that $C$ and $S$ are independent, which means that $P(C|S) = P(C)$."
   ]
  },
  {
   "cell_type": "code",
   "execution_count": 9,
   "metadata": {
    "collapsed": false
   },
   "outputs": [
    {
     "name": "stdout",
     "output_type": "stream",
     "text": [
      "0.0055\n"
     ]
    }
   ],
   "source": [
    "print G_S[0, 1] * C[4]"
   ]
  },
  {
   "cell_type": "markdown",
   "metadata": {},
   "source": [
    "### 1.2 C\n",
    "\n",
    "We need $P(S \\mid G)$. We can use some of the tables we computed previously..."
   ]
  },
  {
   "cell_type": "code",
   "execution_count": 10,
   "metadata": {
    "collapsed": false
   },
   "outputs": [
    {
     "name": "stdout",
     "output_type": "stream",
     "text": [
      "[ 0.54166667  0.45833333]\n"
     ]
    }
   ],
   "source": [
    "SG = GS.transpose(1,0)\n",
    "S_G = SG / G[newaxis, :]\n",
    "print S_G[:,0]"
   ]
  },
  {
   "cell_type": "markdown",
   "metadata": {},
   "source": [
    "## Exercise 1.3"
   ]
  },
  {
   "cell_type": "markdown",
   "metadata": {},
   "source": [
    "### 1.3 A\n",
    "First, we assign the dimensions:\n",
    "* rows:  \n",
    "    * 0 ... apples  \n",
    "    * 1 ... oranges  \n",
    "    * 2 ... limes  \n",
    "* columns:  \n",
    "    * 0 ... red  \n",
    "    * 1 ... blue  \n",
    "    * 2 ... green  \n",
    "\n"
   ]
  },
  {
   "cell_type": "code",
   "execution_count": 11,
   "metadata": {
    "collapsed": false
   },
   "outputs": [
    {
     "name": "stdout",
     "output_type": "stream",
     "text": [
      "[[ 0.375       0.          0.66666667]\n",
      " [ 0.5         0.4         0.33333333]\n",
      " [ 0.125       0.6         0.        ]]\n"
     ]
    }
   ],
   "source": [
    "# add dot behind the numbers to treat numbers as floats\n",
    "F_C = array([[3., 0., 2.],\n",
    "             [4., 2., 1.],\n",
    "             [1., 3., 0.]])\n",
    "# normalise, sum over rows.\n",
    "F_C = F_C / F_C.sum(0)\n",
    "print F_C"
   ]
  },
  {
   "cell_type": "markdown",
   "metadata": {},
   "source": [
    "### 1.3 B\n",
    "\n",
    "This question gives us $P(C)$, and asks for $P(F=orange)$."
   ]
  },
  {
   "cell_type": "code",
   "execution_count": 12,
   "metadata": {
    "collapsed": false
   },
   "outputs": [
    {
     "name": "stdout",
     "output_type": "stream",
     "text": [
      "0.396666666667\n"
     ]
    }
   ],
   "source": [
    "C = array([0.3, 0.2, 0.5])\n",
    "FC = F_C * C[newaxis, :]\n",
    "F = FC.sum(1)\n",
    "print F[1]"
   ]
  },
  {
   "cell_type": "markdown",
   "metadata": {},
   "source": [
    "### 1.3 C\n",
    "\n",
    "We're looking for $P(C \\mid F)$."
   ]
  },
  {
   "cell_type": "code",
   "execution_count": 13,
   "metadata": {
    "collapsed": false
   },
   "outputs": [
    {
     "name": "stdout",
     "output_type": "stream",
     "text": [
      "0.747663551402\n"
     ]
    }
   ],
   "source": [
    "CF = FC.transpose(1, 0)\n",
    "C_F = CF / F[newaxis, :]\n",
    "print C_F[2, 0]"
   ]
  },
  {
   "cell_type": "markdown",
   "metadata": {},
   "source": [
    "## Exercise 2"
   ]
  },
  {
   "cell_type": "markdown",
   "metadata": {},
   "source": [
    "A) false  \n",
    "B) true  \n",
    "C) false  \n",
    "D) true  \n",
    "E) false  \n",
    "F) false  \n",
    "G) true  \n",
    "H) true\n",
    "\n"
   ]
  }
 ],
 "metadata": {
  "kernelspec": {
   "display_name": "Python 2",
   "language": "python",
   "name": "python2"
  },
  "language_info": {
   "codemirror_mode": {
    "name": "ipython",
    "version": 2
   },
   "file_extension": ".py",
   "mimetype": "text/x-python",
   "name": "python",
   "nbconvert_exporter": "python",
   "pygments_lexer": "ipython2",
   "version": "2.7.6"
  }
 },
 "nbformat": 4,
 "nbformat_minor": 0
}
