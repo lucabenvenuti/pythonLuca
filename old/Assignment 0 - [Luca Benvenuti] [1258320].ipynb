{
 "cells": [
  {
   "cell_type": "markdown",
   "metadata": {},
   "source": [
    "# Assignment 0\n",
    "\n",
    "Welcome to the zeroth assignment. This is just to check if your IPython environment is up and running. First of all, set your name and matriculation number in the title of the notebook above. You can do this just by clicking on the title. Then, execute all the code cells below."
   ]
  },
  {
   "cell_type": "code",
   "execution_count": 2,
   "metadata": {
    "collapsed": false
   },
   "outputs": [
    {
     "name": "stdout",
     "output_type": "stream",
     "text": [
      "Hello, IPython notebook!\n"
     ]
    }
   ],
   "source": [
    "print 'Hello, IPython notebook!'"
   ]
  },
  {
   "cell_type": "markdown",
   "metadata": {},
   "source": [
    "Now, we'll check if PyLab works... the next code cell imports some functions into the global namespace for convenience. You might get some warnings, don't worry about them. The following commands should still work!"
   ]
  },
  {
   "cell_type": "code",
   "execution_count": 1,
   "metadata": {
    "collapsed": false
   },
   "outputs": [
    {
     "name": "stdout",
     "output_type": "stream",
     "text": [
      "Populating the interactive namespace from numpy and matplotlib\n"
     ]
    }
   ],
   "source": [
    "%pylab inline"
   ]
  },
  {
   "cell_type": "code",
   "execution_count": 4,
   "metadata": {
    "collapsed": true
   },
   "outputs": [],
   "source": [
    "x = linspace(-10, 10, 100)  # create an array of 100 linearly spaced floating point numbers between -10 and 10"
   ]
  },
  {
   "cell_type": "code",
   "execution_count": 5,
   "metadata": {
    "collapsed": false
   },
   "outputs": [
    {
     "name": "stdout",
     "output_type": "stream",
     "text": [
      "[-10.          -9.7979798   -9.5959596   -9.39393939  -9.19191919\n",
      "  -8.98989899  -8.78787879  -8.58585859  -8.38383838  -8.18181818\n",
      "  -7.97979798  -7.77777778  -7.57575758  -7.37373737  -7.17171717\n",
      "  -6.96969697  -6.76767677  -6.56565657  -6.36363636  -6.16161616\n",
      "  -5.95959596  -5.75757576  -5.55555556  -5.35353535  -5.15151515\n",
      "  -4.94949495  -4.74747475  -4.54545455  -4.34343434  -4.14141414\n",
      "  -3.93939394  -3.73737374  -3.53535354  -3.33333333  -3.13131313\n",
      "  -2.92929293  -2.72727273  -2.52525253  -2.32323232  -2.12121212\n",
      "  -1.91919192  -1.71717172  -1.51515152  -1.31313131  -1.11111111\n",
      "  -0.90909091  -0.70707071  -0.50505051  -0.3030303   -0.1010101\n",
      "   0.1010101    0.3030303    0.50505051   0.70707071   0.90909091\n",
      "   1.11111111   1.31313131   1.51515152   1.71717172   1.91919192\n",
      "   2.12121212   2.32323232   2.52525253   2.72727273   2.92929293\n",
      "   3.13131313   3.33333333   3.53535354   3.73737374   3.93939394\n",
      "   4.14141414   4.34343434   4.54545455   4.74747475   4.94949495\n",
      "   5.15151515   5.35353535   5.55555556   5.75757576   5.95959596\n",
      "   6.16161616   6.36363636   6.56565657   6.76767677   6.96969697\n",
      "   7.17171717   7.37373737   7.57575758   7.77777778   7.97979798\n",
      "   8.18181818   8.38383838   8.58585859   8.78787879   8.98989899\n",
      "   9.19191919   9.39393939   9.5959596    9.7979798   10.        ]\n"
     ]
    }
   ],
   "source": [
    "print x"
   ]
  },
  {
   "cell_type": "code",
   "execution_count": 6,
   "metadata": {
    "collapsed": false
   },
   "outputs": [
    {
     "name": "stdout",
     "output_type": "stream",
     "text": [
      "[  1.00000000e+02   9.60004081e+01   9.20824406e+01   8.82460973e+01\n",
      "   8.44913784e+01   8.08182838e+01   7.72268136e+01   7.37169677e+01\n",
      "   7.02887460e+01   6.69421488e+01   6.36771758e+01   6.04938272e+01\n",
      "   5.73921028e+01   5.43720029e+01   5.14335272e+01   4.85766758e+01\n",
      "   4.58014488e+01   4.31078461e+01   4.04958678e+01   3.79655137e+01\n",
      "   3.55167840e+01   3.31496786e+01   3.08641975e+01   2.86603408e+01\n",
      "   2.65381084e+01   2.44975003e+01   2.25385165e+01   2.06611570e+01\n",
      "   1.88654219e+01   1.71513111e+01   1.55188246e+01   1.39679625e+01\n",
      "   1.24987246e+01   1.11111111e+01   9.80512193e+00   8.58075707e+00\n",
      "   7.43801653e+00   6.37690032e+00   5.39740843e+00   4.49954086e+00\n",
      "   3.68329762e+00   2.94867871e+00   2.29568411e+00   1.72431385e+00\n",
      "   1.23456790e+00   8.26446281e-01   4.99948985e-01   2.55076013e-01\n",
      "   9.18273646e-02   1.02030405e-02   1.02030405e-02   9.18273646e-02\n",
      "   2.55076013e-01   4.99948985e-01   8.26446281e-01   1.23456790e+00\n",
      "   1.72431385e+00   2.29568411e+00   2.94867871e+00   3.68329762e+00\n",
      "   4.49954086e+00   5.39740843e+00   6.37690032e+00   7.43801653e+00\n",
      "   8.58075707e+00   9.80512193e+00   1.11111111e+01   1.24987246e+01\n",
      "   1.39679625e+01   1.55188246e+01   1.71513111e+01   1.88654219e+01\n",
      "   2.06611570e+01   2.25385165e+01   2.44975003e+01   2.65381084e+01\n",
      "   2.86603408e+01   3.08641975e+01   3.31496786e+01   3.55167840e+01\n",
      "   3.79655137e+01   4.04958678e+01   4.31078461e+01   4.58014488e+01\n",
      "   4.85766758e+01   5.14335272e+01   5.43720029e+01   5.73921028e+01\n",
      "   6.04938272e+01   6.36771758e+01   6.69421488e+01   7.02887460e+01\n",
      "   7.37169677e+01   7.72268136e+01   8.08182838e+01   8.44913784e+01\n",
      "   8.82460973e+01   9.20824406e+01   9.60004081e+01   1.00000000e+02]\n"
     ]
    }
   ],
   "source": [
    "y = x ** 2\n",
    "print y"
   ]
  },
  {
   "cell_type": "code",
   "execution_count": 7,
   "metadata": {
    "collapsed": false,
    "scrolled": true
   },
   "outputs": [
    {
     "data": {
      "text/plain": [
       "[<matplotlib.lines.Line2D at 0x7f47b52c2850>]"
      ]
     },
     "execution_count": 7,
     "metadata": {},
     "output_type": "execute_result"
    },
    {
     "data": {
      "image/png": "[encoded data removed]",
      "text/plain": [
       "<matplotlib.figure.Figure at 0x7f47abff6e90>"
      ]
     },
     "metadata": {},
     "output_type": "display_data"
    }
   ],
   "source": [
    "plot(x, y)"
   ]
  },
  {
   "cell_type": "code",
   "execution_count": 8,
   "metadata": {
    "collapsed": false
   },
   "outputs": [
    {
     "name": "stdout",
     "output_type": "stream",
     "text": [
      "[[ 1.  1.]\n",
      " [ 1.  1.]\n",
      " [ 1.  1.]\n",
      " [ 1.  1.]]\n"
     ]
    }
   ],
   "source": [
    "print ones((4, 2))"
   ]
  }
 ],
 "metadata": {
  "kernelspec": {
   "display_name": "Python 2",
   "language": "python",
   "name": "python2"
  },
  "language_info": {
   "codemirror_mode": {
    "name": "ipython",
    "version": 2
   },
   "file_extension": ".py",
   "mimetype": "text/x-python",
   "name": "python",
   "nbconvert_exporter": "python",
   "pygments_lexer": "ipython2",
   "version": "2.7.10"
  }
 },
 "nbformat": 4,
 "nbformat_minor": 0
}
