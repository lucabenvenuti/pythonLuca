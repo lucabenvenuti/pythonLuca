{
 "cells": [
  {
   "cell_type": "code",
   "execution_count": 2,
   "metadata": {
    "collapsed": false
   },
   "outputs": [
    {
     "name": "stdout",
     "output_type": "stream",
     "text": [
      "Populating the interactive namespace from numpy and matplotlib\n"
     ]
    }
   ],
   "source": [
    "%pylab inline"
   ]
  },
  {
   "cell_type": "markdown",
   "metadata": {},
   "source": [
    "# Loading data from a text file\n",
    "\n",
    "The following cell loads the data stored in the text files \"train.txt\" and \"test.txt\". This results in two NumPy arrays with shapes 500x5 (train.txt) and 5000x5 (test.txt) - 500 and 5000 samples of the following 5 random variables:\n",
    "\n",
    "Column 0: S ... stress (false (0) or true (1))     \n",
    "Column 1: E ... easily catches cold (false (0) or true (1))  \n",
    "Column 2: G ... genetic disposition (false (0) or true (1))   \n",
    "Column 3: I ... increased blood pressure (false (0) or true (1))   \n",
    "Column 4: H ... heart attack (false (0) or true (1))   "
   ]
  },
  {
   "cell_type": "code",
   "execution_count": 3,
   "metadata": {
    "collapsed": false
   },
   "outputs": [
    {
     "name": "stdout",
     "output_type": "stream",
     "text": [
      "(500, 5)\n",
      "(5000, 5)\n"
     ]
    }
   ],
   "source": [
    "# load the training dataset Y. Note: the file \"train.txt\" has to be in the same directory you started the ipython notebook server in\n",
    "Y = np.loadtxt('train.txt', dtype=int)\n",
    "print Y.shape\n",
    "\n",
    "# load the training dataset Z (used for last exercise). Again, the file has to be in correct directory.\n",
    "Z = np.loadtxt('test.txt', dtype=int)\n",
    "print Z.shape\n",
    "\n",
    "# row indices of the random variables\n",
    "_s_, _e_, _g_, _i_, _h_ = 0, 1, 2, 3, 4\n",
    "\n",
    "def counter_1d(X, x, y):\n",
    "    return where(X[:, x] == y)[0].shape[0]\n",
    "\n",
    "def counter_2d(X, x, y, v, w):\n",
    "    return where((X[:, x] == y) & (X[:, v] == w))[0].shape[0]\n",
    "\n",
    "def mle_1d(X, x):\n",
    "    sm = X[:, x].sum()\n",
    "    num = X[:, x].shape[0] \n",
    "    #print sm\n",
    "    if num == 0.0: \n",
    "        return array([NaN, NaN]) #suggestion from T.A.\n",
    "    else:\n",
    "        return array([1 - sm / float(num), sm / float(num)])\n",
    "    \n",
    "def mle_2d(X, a, b):  \n",
    "    x = X[:, a]\n",
    "    y = X[:, b]\n",
    "    num = X.shape[0] \n",
    "    condA = where((x == 0) & (y == 0))[0].shape[0] / float(num)\n",
    "    condB = where((x == 0) & (y == 1))[0].shape[0] / float(num)\n",
    "    condC = where((x == 1) & (y == 0))[0].shape[0] / float(num)\n",
    "    condD = 1 - (condA + condB + condC)   \n",
    "    ab = array([[condA, condB], [condC, condD]])\n",
    "    return ab / ab.sum(1) / (ab / ab.sum(1)).sum(0)\n",
    "    \n",
    "\n",
    "def mle_3d(X, a, b, c):  \n",
    "    x = X[:, a]\n",
    "    y = X[:, b]\n",
    "    z = X[:, c]\n",
    "    num = X.shape[0] \n",
    "    condA = where((x == 0) & (y == 0) & (z == 0))[0].shape[0] / float(num)\n",
    "    condB = where((x == 0) & (y == 0) & (z == 1))[0].shape[0] / float(num)\n",
    "    condC = where((x == 0) & (y == 1) & (z == 0))[0].shape[0] / float(num)\n",
    "    condD = where((x == 0) & (y == 1) & (z == 1))[0].shape[0] / float(num)\n",
    "    condE = where((x == 1) & (y == 0) & (z == 0))[0].shape[0] / float(num)\n",
    "    condF = where((x == 1) & (y == 0) & (z == 1))[0].shape[0] / float(num)\n",
    "    condG = where((x == 1) & (y == 1) & (z == 0))[0].shape[0] / float(num)\n",
    "    condH = 1 - (condA + condB + condC + condD + condE + condF + condG)  \n",
    "    abc =  array([[[condA, condB], [condC, condD]], [[condE, condF], [condG, condH]]])   \n",
    "    bc = abc.sum(0)\n",
    "    return abc / bc\n"
   ]
  },
  {
   "cell_type": "code",
   "execution_count": 40,
   "metadata": {
    "collapsed": false
   },
   "outputs": [
    {
     "name": "stdout",
     "output_type": "stream",
     "text": [
      "training1\n",
      "0.0070490000256\n",
      "0.00558564439877\n",
      "0.0057987363276\n",
      "\n",
      "\n",
      "test1\n",
      "0.48346417417\n",
      "0.540834670894\n",
      "0.536621881799\n",
      "\n",
      "\n",
      "training2\n",
      "0.0231618381696\n",
      "0.0409389791895\n",
      "0.0439511111111\n",
      "\n",
      "\n",
      "test2\n",
      "0.48346417417\n",
      "0.540834670894\n",
      "0.536621881799\n"
     ]
    }
   ],
   "source": [
    "S = mle_1d(Y,_s_)\n",
    "G = mle_1d(Y,_g_)\n",
    "I = mle_1d(Y,_i_)\n",
    "E = mle_1d(Y,_e_)\n",
    "H = mle_1d(Y,_h_)\n",
    "\n",
    "#print S\n",
    "#print E\n",
    "#print G\n",
    "#print I\n",
    "#print H\n",
    "\n",
    "#mle_2d(Y, 2, 3)\n",
    "#mle_3d(Y, 0, 1, 2)\n",
    "\n",
    "#print 'P(E|S)'\n",
    "\n",
    "#ES = mle_2d(Y, _e_, _s_)\n",
    "E_S = mle_2d(Y, _e_, _s_)\n",
    "#print E_cond_S\n",
    "\n",
    "#print 'stop \\n'\n",
    "\n",
    "#HI = mle_2d(Y, _h_, _i_)\n",
    "H_I = mle_2d(Y, _h_, _i_)\n",
    "#print H_cond_I\n",
    "\n",
    "#IGS = \n",
    "#GS = IGS.sum(0)\n",
    "I_GS = mle_3d(Y, _i_, _g_, _s_)\n",
    "#print I_cond_GS\n",
    "na=newaxis\n",
    "SGIEH1 = S[:, na, na, na, na] * G[na, :, na, na, na] * I[na, na, :, na, na] * E[na, na, na, :, na] * H[na, na, na, na, :]\n",
    "#print SGIEH1.shape\n",
    "\n",
    "I_SG = mle_3d(Y, _i_, _s_, _g_)\n",
    "S_G = mle_2d(Y, _s_, _g_)\n",
    "E_SI = mle_3d(Y, _e_, _s_, _i_)\n",
    "E_IS = mle_3d(Y, _e_, _i_, _s_)\n",
    "H_EI = mle_3d(Y, _h_, _e_, _i_)\n",
    "H_IE = mle_3d(Y, _h_, _i_, _e_)\n",
    "\n",
    "HEISG1 = H[:, na, na, na, na] * E[na, :, na, na, na] * I[na, na, :, na, na] * S[na, na, na, :, na] * G[na, na, na, na, :]\n",
    "HEISG2 = H_I[:, na, :, na, na] * E_S[na, :, na, :, na] * I_SG[na, na, :, :, :] * S[na, na, na, :, na] * G[na, na, na, na, :]\n",
    "HEISG3 = H_EI[:, :, :, na, na] * E_IS[na, :, :, :, na] * I_SG[na, na, :, :, :] * S_G[na, na, na, :, :] * G[na, na, na, na, :]\n",
    "\n",
    "#print mle_3d(Y, _h_, _e_, _i_) == mle_3d(Y, _h_, _i_, _e_).transpose((0, 2, 1))\n",
    "\n",
    "\n",
    "SEGIH1 = HEISG1.transpose((4, 1, 3, 0, 2))\n",
    "SEGIH2 = HEISG2.transpose((4, 1, 3, 0, 2))\n",
    "SEGIH3 = HEISG3.transpose((4, 1, 3, 0, 2))\n",
    "\n",
    "SEGIH1_bis = S[:, na, na, na, na] * E[na, :, na, na, na] * G[na, na, :, na, na] * I[na, na, na, :, na] * H[na, na, na, na, :] \n",
    "SEGIH2_bis = S[:, na, na, na, na] * E_S.transpose((1, 0))[:, :, na, na, na] * G[na, na, :, na, na] * I_GS.transpose((2, 1, 0))[:, na, :, :, na] * H_I.transpose((1, 0))[na, na, na, :, :] \n",
    "SEGIH3_bis = S_G[:, na, :, na, na] * E_SI.transpose((1, 0, 2))[:, :, na, :, na] * G[na, na, :, na, na] * I_GS.transpose((2, 1, 0))[:, na, :, :, na] * H_IE.transpose((2, 1, 0))[na, :, na, :, :] \n",
    "\n",
    "#print 'check zeroes'\n",
    "#print SEGIH1_bis\n",
    "#print SEGIH2_bis\n",
    "#print SEGIH3_bis\n",
    "#print '\\n'\n",
    "\n",
    "#print SEGIH1 == HEISG1\n",
    "\n",
    "#LTO = OTL.transpose((2, 1, 0))\n",
    "\n",
    "#_s_, _e_, _g_, _i_, _h_\n",
    "\n",
    "print 'training1'\n",
    "print SEGIH1[Y[:,0],Y[:,1],Y[:,2],Y[:,3],Y[:,4]][0].prod()\n",
    "print SEGIH2[Y[:,0],Y[:,1],Y[:,2],Y[:,3],Y[:,4]][0].prod()\n",
    "print SEGIH3[Y[:,0],Y[:,1],Y[:,2],Y[:,3],Y[:,4]][0].prod()\n",
    "print '\\n'\n",
    "print 'test1'\n",
    "print SEGIH1[Z[:,0],Z[:,1],Z[:,2],Z[:,3],Z[:,4]][0].prod()\n",
    "print SEGIH2[Z[:,0],Z[:,1],Z[:,2],Z[:,3],Z[:,4]][0].prod()\n",
    "print SEGIH3[Z[:,0],Z[:,1],Z[:,2],Z[:,3],Z[:,4]][0].prod()\n",
    "print '\\n'\n",
    "print 'training2'\n",
    "print SEGIH1_bis[Y[:,0],Y[:,1],Y[:,2],Y[:,3],Y[:,4]][0].prod()\n",
    "print SEGIH2_bis[Y[:,0],Y[:,1],Y[:,2],Y[:,3],Y[:,4]][0].prod()\n",
    "print SEGIH3_bis[Y[:,0],Y[:,1],Y[:,2],Y[:,3],Y[:,4]][0].prod()\n",
    "print '\\n'\n",
    "print 'test2'\n",
    "print SEGIH1_bis[Z[:,0],Z[:,1],Z[:,2],Z[:,3],Z[:,4]][0].prod()\n",
    "print SEGIH2_bis[Z[:,0],Z[:,1],Z[:,2],Z[:,3],Z[:,4]][0].prod()\n",
    "print SEGIH3_bis[Z[:,0],Z[:,1],Z[:,2],Z[:,3],Z[:,4]][0].prod()"
   ]
  },
  {
   "cell_type": "code",
   "execution_count": null,
   "metadata": {
    "collapsed": true
   },
   "outputs": [],
   "source": []
  }
 ],
 "metadata": {
  "kernelspec": {
   "display_name": "Python 2",
   "language": "python",
   "name": "python2"
  },
  "language_info": {
   "codemirror_mode": {
    "name": "ipython",
    "version": 2
   },
   "file_extension": ".py",
   "mimetype": "text/x-python",
   "name": "python",
   "nbconvert_exporter": "python",
   "pygments_lexer": "ipython2",
   "version": "2.7.10"
  }
 },
 "nbformat": 4,
 "nbformat_minor": 0
}
