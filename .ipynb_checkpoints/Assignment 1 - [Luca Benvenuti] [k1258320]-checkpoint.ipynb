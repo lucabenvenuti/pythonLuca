{
 "cells": [
  {
   "cell_type": "code",
   "execution_count": 1,
   "metadata": {
    "collapsed": false
   },
   "outputs": [
    {
     "name": "stdout",
     "output_type": "stream",
     "text": [
      "Populating the interactive namespace from numpy and matplotlib\n"
     ]
    }
   ],
   "source": [
    "%pylab inline"
   ]
  },
  {
   "cell_type": "code",
   "execution_count": 2,
   "metadata": {
    "collapsed": true
   },
   "outputs": [],
   "source": [
    "## First exercise"
   ]
  },
  {
   "cell_type": "code",
   "execution_count": 3,
   "metadata": {
    "collapsed": true
   },
   "outputs": [],
   "source": [
    "# L = Cold, H = Hungry, Y = Crying"
   ]
  },
  {
   "cell_type": "code",
   "execution_count": 79,
   "metadata": {
    "collapsed": true
   },
   "outputs": [],
   "source": [
    "YHL = array([[[0.075, 0.045],\n",
    "              [0.023, 0.007]],\n",
    "             \n",
    "             [[0.08, 0.17],\n",
    "              [0.17, 0.43]]])"
   ]
  },
  {
   "cell_type": "code",
   "execution_count": 80,
   "metadata": {
    "collapsed": false
   },
   "outputs": [
    {
     "name": "stdout",
     "output_type": "stream",
     "text": [
      "[[[ 0.075  0.045]\n",
      "  [ 0.023  0.007]]\n",
      "\n",
      " [[ 0.08   0.17 ]\n",
      "  [ 0.17   0.43 ]]]\n"
     ]
    }
   ],
   "source": [
    "print YHL"
   ]
  },
  {
   "cell_type": "code",
   "execution_count": 116,
   "metadata": {
    "collapsed": false
   },
   "outputs": [
    {
     "name": "stdout",
     "output_type": "stream",
     "text": [
      "0.15\n",
      "there is 15% probability that Olivia is crying\n"
     ]
    }
   ],
   "source": [
    "# Summing over the crying axis\n",
    "YH = YHL.sum(2)  # marginalising L & H\n",
    "Y = YH.sum(1)\n",
    "print Y[0]\n",
    "print 'there is 15% probability that Olivia is crying'"
   ]
  },
  {
   "cell_type": "code",
   "execution_count": 128,
   "metadata": {
    "collapsed": false
   },
   "outputs": [
    {
     "name": "stdout",
     "output_type": "stream",
     "text": [
      "0.8\n",
      "there is 80% probability that Olivia is hungry when she is crying\n"
     ]
    }
   ],
   "source": [
    "#HY = YHL.sum(2)\n",
    "H_cond_Y = YH / Y [0]\n",
    "print H_cond_Y[0,0]\n",
    "print 'there is 80% probability that Olivia is hungry when she is crying'"
   ]
  },
  {
   "cell_type": "code",
   "execution_count": 127,
   "metadata": {
    "collapsed": false
   },
   "outputs": [
    {
     "name": "stdout",
     "output_type": "stream",
     "text": [
      "[ 0.348  0.652]\n",
      "0.281609195402\n",
      "there is 28% probability that Olivia is crying when she is cold\n"
     ]
    }
   ],
   "source": [
    "YL = YHL.sum(1)\n",
    "L = YL.sum(0)\n",
    "Y_cond_L = YL / L [0]\n",
    "print L\n",
    "print Y_cond_L[0,0]\n",
    "print 'there is 28% probability that Olivia is crying when she is cold'"
   ]
  },
  {
   "cell_type": "code",
   "execution_count": 126,
   "metadata": {
    "collapsed": false
   },
   "outputs": [
    {
     "name": "stdout",
     "output_type": "stream",
     "text": [
      "[ 0.37  0.63]\n",
      "\n",
      "\n",
      "P(Y,h)\n",
      "[[ 0.075  0.045]\n",
      " [ 0.08   0.17 ]]\n",
      "\n",
      "\n",
      "P(Y|h)\n",
      "[[ 0.2027027   0.12162162]\n",
      " [ 0.21621622  0.45945946]]\n"
     ]
    }
   ],
   "source": [
    "H = YH.sum(0)\n",
    "print H\n",
    "print '\\n'\n",
    "print 'P(Y,h)'\n",
    "print YHL[:,0,:]\n",
    "print '\\n'\n",
    "print 'P(Y|h)'\n",
    "print YHL[:,0,:]/H[0]"
   ]
  },
  {
   "cell_type": "code",
   "execution_count": 129,
   "metadata": {
    "collapsed": true
   },
   "outputs": [],
   "source": [
    "## Second exercise"
   ]
  },
  {
   "cell_type": "code",
   "execution_count": 144,
   "metadata": {
    "collapsed": false
   },
   "outputs": [
    {
     "name": "stdout",
     "output_type": "stream",
     "text": [
      "[[ 0.65  0.35]\n",
      " [ 0.55  0.45]]\n"
     ]
    }
   ],
   "source": [
    "# G = Gender, W = glass Wearer\n",
    "GW = array ([[0.65, 0.35],\n",
    "             [0.55, 0.45]])\n",
    "P = 0.01\n",
    "print GW\n",
    "#print GW[1,0]"
   ]
  },
  {
   "cell_type": "code",
   "execution_count": 146,
   "metadata": {
    "collapsed": false
   },
   "outputs": [
    {
     "name": "stdout",
     "output_type": "stream",
     "text": [
      "0.6\n",
      "0.006\n",
      "there is 0.6% probability that the first person he meets is a glass wearer with a pink car\n"
     ]
    }
   ],
   "source": [
    "W = GW.sum(0)\n",
    "W_cond = W / W.sum(0)\n",
    "print W_cond[0]\n",
    "W_P = W_cond[0] * P\n",
    "print W_P\n",
    "print 'there is 0.6% probability that the first person he meets is a glass wearer with a pink car'"
   ]
  },
  {
   "cell_type": "code",
   "execution_count": 148,
   "metadata": {
    "collapsed": false
   },
   "outputs": [
    {
     "name": "stdout",
     "output_type": "stream",
     "text": [
      "0.0065\n",
      "there is 0.65% probability that the first man he meets is a glass wearer with a pink car\n"
     ]
    }
   ],
   "source": [
    "GW_P = GW[0,0] * P\n",
    "print GW_P\n",
    "print 'there is 0.65% probability that the first man he meets is a glass wearer with a pink car'"
   ]
  },
  {
   "cell_type": "code",
   "execution_count": 149,
   "metadata": {
    "collapsed": false
   },
   "outputs": [
    {
     "name": "stdout",
     "output_type": "stream",
     "text": [
      "[ 1.2  0.8]\n"
     ]
    }
   ],
   "source": [
    "print W"
   ]
  },
  {
   "cell_type": "code",
   "execution_count": 153,
   "metadata": {
    "collapsed": false
   },
   "outputs": [
    {
     "name": "stdout",
     "output_type": "stream",
     "text": [
      "[ 0.54166667  0.45833333]\n",
      "0.0065\n",
      "there is 54% that the killer is a man, 46% that is a woman\n"
     ]
    }
   ],
   "source": [
    "G_cond_W = GW[:,0] / W[0]\n",
    "print G_cond_W\n",
    "print GW_P\n",
    "print 'there is 54% that the killer is a man, 46% that is a woman'"
   ]
  },
  {
   "cell_type": "code",
   "execution_count": 154,
   "metadata": {
    "collapsed": true
   },
   "outputs": [],
   "source": [
    "## Third exercise"
   ]
  },
  {
   "cell_type": "code",
   "execution_count": 185,
   "metadata": {
    "collapsed": false
   },
   "outputs": [
    {
     "name": "stdout",
     "output_type": "stream",
     "text": [
      "probability of fruits and colours\n",
      "[[ 0.1875  0.      0.125 ]\n",
      " [ 0.25    0.125   0.0625]\n",
      " [ 0.0625  0.1875  0.    ]]\n",
      "\n",
      "\n",
      "probability of the boxes\n",
      "[ 0.3  0.2  0.5]\n",
      "\n",
      "\n",
      "probability by column\n",
      "[[ 0.375       0.          0.66666667]\n",
      " [ 0.5         0.4         0.33333333]\n",
      " [ 0.125       0.6         0.        ]]\n"
     ]
    }
   ],
   "source": [
    "FC = array ([[3.0, 0.0, 2.0],\n",
    "            [4.0,  2.0, 1.0],\n",
    "            [1.0,  3.0, 0.0]])\n",
    "FC_tot = FC / FC.sum(1).sum(0)\n",
    "B = array([0.3, 0.2, 0.5])\n",
    "#FC_col = FC\n",
    "for i in range(3):\n",
    "    FC_col[:,i] = FC[:,i] / FC[:,i].sum(0)\n",
    "\n",
    "print 'probability of fruits and colours'\n",
    "print FC_tot\n",
    "print '\\n'\n",
    "print 'probability of the boxes'\n",
    "print B\n",
    "print '\\n'\n",
    "print 'probability by column'\n",
    "print FC_col "
   ]
  },
  {
   "cell_type": "code",
   "execution_count": 193,
   "metadata": {
    "collapsed": false
   },
   "outputs": [
    {
     "name": "stdout",
     "output_type": "stream",
     "text": [
      "probability of selecting an orange, if a box is chosen at random with probabilities\n",
      " P(r) = 0.3, P(b) = 0.2, P(g) = 0.5, and one piece of fruit is chosen randomly from this box \n",
      "(with equal probability of selecting any of the items in the box)\n",
      "0.396666666667\n"
     ]
    }
   ],
   "source": [
    "o = (FC_col[1,:] * B).sum(0) # P(o)\n",
    "print 'probability of selecting an orange, if a box is chosen at random with probabilities' \n",
    "print ' P(r) = 0.3, P(b) = 0.2, P(g) = 0.5, and one piece of fruit is chosen randomly from this box ' \n",
    "print '(with equal probability of selecting any of the items in the box)'\n",
    "print o"
   ]
  },
  {
   "cell_type": "code",
   "execution_count": 198,
   "metadata": {
    "collapsed": false
   },
   "outputs": [
    {
     "name": "stdout",
     "output_type": "stream",
     "text": [
      "probability of selecting an apple, if a box is chosen at random with probabilities\n",
      " P(r) = 0.3, P(b) = 0.2, P(g) = 0.5, and one piece of fruit is chosen randomly from this box \n",
      "(with equal probability of selecting any of the items in the box)\n",
      "0.445833333333\n"
     ]
    }
   ],
   "source": [
    "# P(a) P(g|a) = P(a|g) * P(g) / P(a) = (P(a,g) * P(g) / P(g) ) / P(a) = P(a,g) / P(a)\n",
    "a = (FC_col[0,:] * B).sum(0) # P(a)\n",
    "print 'probability of selecting an apple, if a box is chosen at random with probabilities' \n",
    "print ' P(r) = 0.3, P(b) = 0.2, P(g) = 0.5, and one piece of fruit is chosen randomly from this box ' \n",
    "print '(with equal probability of selecting any of the items in the box)'\n",
    "print a"
   ]
  },
  {
   "cell_type": "code",
   "execution_count": 204,
   "metadata": {
    "collapsed": false
   },
   "outputs": [
    {
     "name": "stdout",
     "output_type": "stream",
     "text": [
      "If we observe that the selected fruit is in fact an apple, what is the probability that it\n",
      "came from the green box? Assume, that we chose the box with the same probabilities\n",
      "as in question 1.3B. Hint: Use Bayes’ rule.\n",
      "0.747663551402\n"
     ]
    }
   ],
   "source": [
    "print 'If we observe that the selected fruit is in fact an apple, what is the probability that it'\n",
    "print 'came from the green box? Assume, that we chose the box with the same probabilities'\n",
    "print 'as in question 1.3B. Hint: Use Bayes’ rule.'\n",
    "ga = FC_col[0,2] * B[2] / a\n",
    "print ga"
   ]
  },
  {
   "cell_type": "code",
   "execution_count": null,
   "metadata": {
    "collapsed": true
   },
   "outputs": [],
   "source": [
    "## Fouth exercise\n",
    "# A) False\n",
    "# B) False\n",
    "# C) False\n",
    "# D) True\n",
    "# E) True\n",
    "# F) False\n",
    "# G) True\n",
    "# H) True"
   ]
  }
 ],
 "metadata": {
  "kernelspec": {
   "display_name": "Python 2",
   "language": "python",
   "name": "python2"
  },
  "language_info": {
   "codemirror_mode": {
    "name": "ipython",
    "version": 2
   },
   "file_extension": ".py",
   "mimetype": "text/x-python",
   "name": "python",
   "nbconvert_exporter": "python",
   "pygments_lexer": "ipython2",
   "version": "2.7.10"
  }
 },
 "nbformat": 4,
 "nbformat_minor": 0
}
