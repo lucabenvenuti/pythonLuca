{
 "cells": [
  {
   "cell_type": "code",
   "execution_count": 5,
   "metadata": {
    "collapsed": false
   },
   "outputs": [
    {
     "name": "stdout",
     "output_type": "stream",
     "text": [
      "Populating the interactive namespace from numpy and matplotlib\n"
     ]
    }
   ],
   "source": [
    "%pylab inline"
   ]
  },
  {
   "cell_type": "markdown",
   "metadata": {},
   "source": [
    "# Loading data from a text file\n",
    "\n",
    "The following cell loads the data stored in the text files \"train.txt\" and \"test.txt\". This results in two NumPy arrays with shapes 500x5 (train.txt) and 5000x5 (test.txt) - 500 and 5000 samples of the following 5 random variables:\n",
    "\n",
    "Column 0: S ... stress (false (0) or true (1))     \n",
    "Column 1: E ... easily catches cold (false (0) or true (1))  \n",
    "Column 2: G ... genetic disposition (false (0) or true (1))   \n",
    "Column 3: I ... increased blood pressure (false (0) or true (1))   \n",
    "Column 4: H ... heart attack (false (0) or true (1))   "
   ]
  },
  {
   "cell_type": "code",
   "execution_count": 137,
   "metadata": {
    "collapsed": false
   },
   "outputs": [
    {
     "name": "stdout",
     "output_type": "stream",
     "text": [
      "(500, 5)\n",
      "(5000, 5)\n"
     ]
    }
   ],
   "source": [
    "# load the training dataset Y. Note: the file \"train.txt\" has to be in the same directory you started the ipython notebook server in\n",
    "Y = np.loadtxt('train.txt', dtype=int)\n",
    "print Y.shape\n",
    "\n",
    "# load the training dataset Z (used for last exercise). Again, the file has to be in correct directory.\n",
    "Z = np.loadtxt('test.txt', dtype=int)\n",
    "print Z.shape\n",
    "\n",
    "# row indices of the random variables\n",
    "_s_, _e_, _g_, _i_, _h_ = 0, 1, 2, 3, 4\n",
    "\n",
    "def counter_1d(X, x, y):\n",
    "    return where(X[:, x] == y)[0].shape[0]\n",
    "\n",
    "def counter_2d(X, x, y, v, w):\n",
    "    return where((X[:, x] == y) & (X[:, v] == w))[0].shape[0]\n",
    "\n",
    "def mle_1d(X, x):\n",
    "    sm = X[:, x].sum()\n",
    "    num = X[:, x].shape[0] \n",
    "    #print sm\n",
    "    if num == 0.0: \n",
    "        return array([NaN, NaN]) #suggestion from T.A.\n",
    "    else:\n",
    "        return array([1 - sm / float(num), sm / float(num)])\n",
    "    \n",
    "def mle_2d(X, a, b):  \n",
    "    x = X[:, a]\n",
    "    y = X[:, b]\n",
    "    num = X.shape[0] \n",
    "    condA = where((x == 0) & (y == 0))[0].shape[0] / float(num)\n",
    "    condB = where((x == 0) & (y == 1))[0].shape[0] / float(num)\n",
    "    condC = where((x == 1) & (y == 0))[0].shape[0] / float(num)\n",
    "    condD = 1 - (condA + condB + condC)   \n",
    "    return array([[condA, condB],\n",
    "             [condC, condD]])\n",
    "    \n",
    "\n",
    "def mle_3d(X, a, b, c):  \n",
    "    x = X[:, a]\n",
    "    y = X[:, b]\n",
    "    z = X[:, c]\n",
    "    num = X.shape[0] \n",
    "    condA = where((x == 0) & (y == 0) & (z == 0))[0].shape[0] / float(num)\n",
    "    condB = where((x == 0) & (y == 0) & (z == 1))[0].shape[0] / float(num)\n",
    "    condC = where((x == 0) & (y == 1) & (z == 0))[0].shape[0] / float(num)\n",
    "    condD = where((x == 0) & (y == 1) & (z == 1))[0].shape[0] / float(num)\n",
    "    condE = where((x == 1) & (y == 0) & (z == 0))[0].shape[0] / float(num)\n",
    "    condF = where((x == 1) & (y == 0) & (z == 1))[0].shape[0] / float(num)\n",
    "    condG = where((x == 1) & (y == 1) & (z == 0))[0].shape[0] / float(num)\n",
    "    condH = 1 - (condA + condB + condC + condD + condE + condF + condG)  \n",
    "    return array([[[condA, condB], [condC, condD]], [[condE, condF], [condG, condH]]])   \n"
   ]
  },
  {
   "cell_type": "code",
   "execution_count": 142,
   "metadata": {
    "collapsed": false
   },
   "outputs": [
    {
     "name": "stdout",
     "output_type": "stream",
     "text": [
      "[ 0.806  0.194]\n",
      "[ 0.904  0.096]\n",
      "[ 0.884  0.116]\n",
      "[ 0.834  0.166]\n",
      "[ 0.9  0.1]\n",
      "[[ 0.92059553  0.83505155]\n",
      " [ 0.07940447  0.16494845]]\n",
      "[[ 0.90647482  0.86746988]\n",
      " [ 0.09352518  0.13253012]]\n",
      "[[[ 0.90960452  0.67045455]\n",
      "  [ 0.69387755  0.22222222]]\n",
      "\n",
      " [[ 0.09039548  0.32954545]\n",
      "  [ 0.30612245  0.77777778]]]\n",
      "[[ 0.92059553  0.83505155]\n",
      " [ 0.07940447  0.16494845]]\n",
      "[[ 0.95057129  0.80184805]\n",
      " [ 0.04942871  0.19815195]]\n"
     ]
    }
   ],
   "source": [
    "S = mle_1d(Y,_s_)\n",
    "E = mle_1d(Y,_e_)\n",
    "G = mle_1d(Y,_g_)\n",
    "I = mle_1d(Y,_i_)\n",
    "H = mle_1d(Y,_h_)\n",
    "\n",
    "print S\n",
    "print E\n",
    "print G\n",
    "print I\n",
    "print H\n",
    "\n",
    "#mle_2d(Y, 2, 3)\n",
    "#mle_3d(Y, 0, 1, 2)\n",
    "\n",
    "#print _s_\n",
    "\n",
    "ES = mle_2d(Y, _e_, _s_)\n",
    "E_cond_S = ES / ES.sum(1) / (ES / ES.sum(1)).sum(0)\n",
    "print E_cond_S\n",
    "\n",
    "HI = mle_2d(Y, _h_, _i_)\n",
    "H_cond_I = HI / HI.sum(1) / (HI / HI.sum(1)).sum(0)\n",
    "print H_cond_I\n",
    "\n",
    "IGS = mle_3d(Y, _i_, _g_, _s_)\n",
    "GS = IGS.sum(0)\n",
    "I_cond_GS = IGS / GS\n",
    "print I_cond_GS \n",
    "\n",
    "Ns0 = counter_1d(Y, _s_, 0)\n",
    "\n",
    "Ns1 = counter_1d(Y, _s_, 1)\n",
    "\n",
    "Ne0s0 = counter_2d(Y, _e_, 0, _s_, 0)\n",
    "\n",
    "Ne0s1 = counter_2d(Y, _e_, 0, _s_, 1)\n",
    "\n",
    "Ne1s0 = counter_2d(Y, _e_, 1, _s_, 0)\n",
    "\n",
    "Ne1s1 = counter_2d(Y, _e_, 1, _s_, 1)\n",
    "\n",
    "print array([[Ne0s0 / float(Ns0), Ne0s1 / float(Ns1)], [Ne1s0 / float(Ns0), Ne1s1 / float(Ns1)]])"
   ]
  },
  {
   "cell_type": "code",
   "execution_count": null,
   "metadata": {
    "collapsed": true
   },
   "outputs": [],
   "source": []
  }
 ],
 "metadata": {
  "kernelspec": {
   "display_name": "Python 2",
   "language": "python",
   "name": "python2"
  },
  "language_info": {
   "codemirror_mode": {
    "name": "ipython",
    "version": 2
   },
   "file_extension": ".py",
   "mimetype": "text/x-python",
   "name": "python",
   "nbconvert_exporter": "python",
   "pygments_lexer": "ipython2",
   "version": "2.7.10"
  }
 },
 "nbformat": 4,
 "nbformat_minor": 0
}
